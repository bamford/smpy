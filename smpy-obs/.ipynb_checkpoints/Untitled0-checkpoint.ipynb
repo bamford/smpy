{
 "metadata": {
  "name": "",
  "signature": "sha256:94da666bec506179bf4689e33fd132e4f6e3275ed47a907a29b1eb27ed74e3bc"
 },
 "nbformat": 3,
 "nbformat_minor": 0,
 "worksheets": [
  {
   "cells": [
    {
     "cell_type": "code",
     "collapsed": false,
     "input": [
      "%pylab inline\n",
      "from pylab import *\n",
      "from mkCSPs import *\n"
     ],
     "language": "python",
     "metadata": {},
     "outputs": [
      {
       "output_type": "stream",
       "stream": "stdout",
       "text": [
        "Populating the interactive namespace from numpy and matplotlib\n"
       ]
      }
     ],
     "prompt_number": 1
    },
    {
     "cell_type": "code",
     "collapsed": false,
     "input": [
      "Gal = CSP('../ssp/bc03/chab/lr/')\n",
      "Gal2 = CSP('../ssp/bc03/chab/lr/',0.35,1.4,0.4,2,sfh_law='pow')"
     ],
     "language": "python",
     "metadata": {},
     "outputs": [
      {
       "output_type": "stream",
       "stream": "stdout",
       "text": [
        "\u001b[0;31mERROR\u001b[0m: UnboundLocalError: local variable 'sfr' referenced before assignment [mkCSPs]\n"
       ]
      },
      {
       "ename": "UnboundLocalError",
       "evalue": "local variable 'sfr' referenced before assignment",
       "output_type": "pyerr",
       "traceback": [
        "\u001b[0;31m---------------------------------------------------------------------------\u001b[0m\n\u001b[0;31mUnboundLocalError\u001b[0m                         Traceback (most recent call last)",
        "\u001b[0;32m<ipython-input-12-16b65d71b549>\u001b[0m in \u001b[0;36m<module>\u001b[0;34m()\u001b[0m\n\u001b[1;32m      1\u001b[0m \u001b[0mGal\u001b[0m \u001b[0;34m=\u001b[0m \u001b[0mCSP\u001b[0m\u001b[0;34m(\u001b[0m\u001b[0;34m)\u001b[0m\u001b[0;34m\u001b[0m\u001b[0m\n\u001b[0;32m----> 2\u001b[0;31m \u001b[0mGal2\u001b[0m \u001b[0;34m=\u001b[0m \u001b[0mCSP\u001b[0m\u001b[0;34m(\u001b[0m\u001b[0;36m0.35\u001b[0m\u001b[0;34m,\u001b[0m\u001b[0;36m1.4\u001b[0m\u001b[0;34m,\u001b[0m\u001b[0;36m0.4\u001b[0m\u001b[0;34m,\u001b[0m\u001b[0;36m2\u001b[0m\u001b[0;34m,\u001b[0m\u001b[0msfh_law\u001b[0m\u001b[0;34m=\u001b[0m\u001b[0;34m'pow'\u001b[0m\u001b[0;34m)\u001b[0m\u001b[0;34m\u001b[0m\u001b[0m\n\u001b[0m",
        "\u001b[0;32m/Users/ken/Documents/PhD/code/smpy/smpy-obs/mkCSPs.pyc\u001b[0m in \u001b[0;36m__init__\u001b[0;34m(self, age, sfh, dust, metal_ind, fesc, sfh_law)\u001b[0m\n\u001b[1;32m    244\u001b[0m     \u001b[0;32mdef\u001b[0m \u001b[0m_sfh_del\u001b[0m\u001b[0;34m(\u001b[0m\u001b[0mself\u001b[0m\u001b[0;34m,\u001b[0m\u001b[0mt\u001b[0m\u001b[0;34m,\u001b[0m\u001b[0mtau\u001b[0m\u001b[0;34m)\u001b[0m\u001b[0;34m:\u001b[0m\u001b[0;34m\u001b[0m\u001b[0m\n\u001b[1;32m    245\u001b[0m         \u001b[0msfh\u001b[0m \u001b[0;34m=\u001b[0m \u001b[0mt\u001b[0m\u001b[0;34m/\u001b[0m\u001b[0;34m(\u001b[0m\u001b[0mtau\u001b[0m\u001b[0;34m**\u001b[0m\u001b[0;36m2\u001b[0m\u001b[0;34m)\u001b[0m\u001b[0;34m*\u001b[0m\u001b[0mnumpy\u001b[0m\u001b[0;34m.\u001b[0m\u001b[0mexp\u001b[0m\u001b[0;34m(\u001b[0m\u001b[0;34m-\u001b[0m\u001b[0mt\u001b[0m\u001b[0;34m/\u001b[0m\u001b[0mtau\u001b[0m\u001b[0;34m)\u001b[0m\u001b[0;34m\u001b[0m\u001b[0m\n\u001b[0;32m--> 246\u001b[0;31m         \u001b[0;32mreturn\u001b[0m \u001b[0msfh\u001b[0m\u001b[0;34m\u001b[0m\u001b[0m\n\u001b[0m\u001b[1;32m    247\u001b[0m \u001b[0;34m\u001b[0m\u001b[0m\n\u001b[1;32m    248\u001b[0m     \u001b[0;32mdef\u001b[0m \u001b[0m_sfh_tru\u001b[0m\u001b[0;34m(\u001b[0m\u001b[0mself\u001b[0m\u001b[0;34m,\u001b[0m\u001b[0mt\u001b[0m\u001b[0;34m,\u001b[0m\u001b[0mtstop\u001b[0m\u001b[0;34m)\u001b[0m\u001b[0;34m:\u001b[0m\u001b[0;34m\u001b[0m\u001b[0m\n",
        "\u001b[0;32m/Users/ken/Documents/PhD/code/smpy/smpy-obs/mkCSPs.pyc\u001b[0m in \u001b[0;36mbuild\u001b[0;34m(self, age, sfh, dust, metal, fesc, sfh_law, neb_cont, neb_met)\u001b[0m\n\u001b[1;32m    525\u001b[0m \u001b[0;34m\u001b[0m\u001b[0m\n\u001b[1;32m    526\u001b[0m             \u001b[0mw\u001b[0m \u001b[0;34m=\u001b[0m \u001b[0msr\u001b[0m\u001b[0;34m*\u001b[0m\u001b[0mDT\u001b[0m\u001b[0;34m[\u001b[0m\u001b[0mai\u001b[0m\u001b[0;34m]\u001b[0m\u001b[0;34m/\u001b[0m\u001b[0;36m2\u001b[0m\u001b[0;34m\u001b[0m\u001b[0m\n\u001b[0;32m--> 527\u001b[0;31m             \u001b[0mw1\u001b[0m \u001b[0;34m=\u001b[0m \u001b[0mnumpy\u001b[0m\u001b[0;34m.\u001b[0m\u001b[0marray\u001b[0m\u001b[0;34m(\u001b[0m\u001b[0mw\u001b[0m\u001b[0;34m[\u001b[0m\u001b[0;34m:\u001b[0m\u001b[0mai\u001b[0m\u001b[0;34m+\u001b[0m\u001b[0;36m1\u001b[0m\u001b[0;34m]\u001b[0m\u001b[0;34m)\u001b[0m\u001b[0;34m\u001b[0m\u001b[0m\n\u001b[0m\u001b[1;32m    528\u001b[0m             \u001b[0mW\u001b[0m\u001b[0;34m[\u001b[0m\u001b[0;36m0\u001b[0m\u001b[0;34m,\u001b[0m\u001b[0mai\u001b[0m\u001b[0;34m]\u001b[0m \u001b[0;34m=\u001b[0m \u001b[0mw1\u001b[0m\u001b[0;34m\u001b[0m\u001b[0m\n\u001b[1;32m    529\u001b[0m \u001b[0;34m\u001b[0m\u001b[0m\n",
        "\u001b[0;31mUnboundLocalError\u001b[0m: local variable 'sfr' referenced before assignment"
       ]
      }
     ],
     "prompt_number": 12
    },
    {
     "cell_type": "code",
     "collapsed": false,
     "input": [
      "Gal.build(0.35,1.4,0.4,2,sfh_law='pow',fesc=0.2)\n",
      "Gal3 = CSP()\n",
      "Gal3.build(0.35,1.4,0.4,2,sfh_law='pow',fesc=0.2,neb_cont=False,neb_met=False)"
     ],
     "language": "python",
     "metadata": {},
     "outputs": [],
     "prompt_number": 3
    },
    {
     "cell_type": "code",
     "collapsed": false,
     "input": [
      "Gal1 = Gal * 1e9\n",
      "Gal2 = Gal * 1e9\n",
      "Gal3 *= 1e9"
     ],
     "language": "python",
     "metadata": {},
     "outputs": [],
     "prompt_number": 4
    },
    {
     "cell_type": "code",
     "collapsed": false,
     "input": [
      "CIII = 8\n",
      "Gal2.addEmissionLine(1908,CIII)\n",
      "Gal2.addEmissionLine(1549,CIII*0.6)"
     ],
     "language": "python",
     "metadata": {},
     "outputs": [
      {
       "output_type": "stream",
       "stream": "stdout",
       "text": [
        "224\n",
        "10.0\n",
        "5914265.26433\n",
        "47314122.1146 4731412.21146\n",
        "187\n",
        "10.0\n",
        "7701459.43258\n",
        "36967005.2764 3696700.52764\n"
       ]
      }
     ],
     "prompt_number": 5
    },
    {
     "cell_type": "code",
     "collapsed": false,
     "input": [
      "Filts = FilterSet('../smpy-fit/GOODS-S_18_FilterCurves/Filter*.txt')"
     ],
     "language": "python",
     "metadata": {},
     "outputs": [],
     "prompt_number": 6
    },
    {
     "cell_type": "code",
     "collapsed": false,
     "input": [
      "z = 7.\n",
      "Obs1 = Observe(Gal1,Filts,z)\n",
      "Obs2 = Observe(Gal2,Filts,z)\n",
      "Obs3 = Observe(Gal3,Filts,z)\n",
      "\n",
      "\n",
      "Beta1 = 4.43*(Obs1.AB[9].value-Obs1.AB[11].value)-2\n",
      "Beta2 = 4.43*(Obs2.AB[9].value-Obs2.AB[11].value)-2\n",
      "Beta3 = 4.43*(Obs3.AB[9].value-Obs3.AB[11].value)-2\n",
      "\n",
      "print Beta1, Beta2, Beta3"
     ],
     "language": "python",
     "metadata": {},
     "outputs": [
      {
       "output_type": "stream",
       "stream": "stdout",
       "text": [
        "-1.74733940261 -1.6908684768 -2.00747288223\n"
       ]
      }
     ],
     "prompt_number": 7
    },
    {
     "cell_type": "code",
     "collapsed": false,
     "input": [
      "loglog(Gal1.wave*(1+z),Gal1.SED,lw=2)\n",
      "loglog(Gal2.wave*(1+z),Gal2.SED,'--',lw=2)\n",
      "loglog(Gal3.wave*(1+z),Gal3.SED,'--',lw=2)\n",
      "\n",
      "plot([1.25e4,1.25e4],[1e4,1e8])\n",
      "plot([1.6e4,1.6e4],[1e4,1e8])\n",
      "plot(Filts.filters[9].wave,Filts.filters[9].response*1e7)\n",
      "plot(Filts.filters[11].wave,Filts.filters[11].response*1e7)\n",
      "\n",
      "xlim([9000,5e4])\n",
      "ylim([1e6,1e8])"
     ],
     "language": "python",
     "metadata": {},
     "outputs": [
      {
       "metadata": {},
       "output_type": "pyout",
       "prompt_number": 8,
       "text": [
        "(1000000.0, 100000000.0)"
       ]
      },
      {
       "metadata": {},
       "output_type": "display_data",
       "png": "[encoded data removed]",
       "text": [
        "<matplotlib.figure.Figure at 0x10bccca50>"
       ]
      }
     ],
     "prompt_number": 8
    },
    {
     "cell_type": "code",
     "collapsed": false,
     "input": [],
     "language": "python",
     "metadata": {},
     "outputs": [],
     "prompt_number": 8
    }
   ],
   "metadata": {}
  }
 ]
}