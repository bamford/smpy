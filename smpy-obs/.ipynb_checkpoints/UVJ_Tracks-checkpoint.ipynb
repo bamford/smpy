{
 "metadata": {
  "name": "",
  "signature": "sha256:16cdbe18f0f658914a05f6217e951594dd8def9f0ba7dfd59b8afd3dad5ade58"
 },
 "nbformat": 3,
 "nbformat_minor": 0,
 "worksheets": [
  {
   "cells": [
    {
     "cell_type": "heading",
     "level": 1,
     "metadata": {},
     "source": [
      "UVJ Colour Diagram"
     ]
    },
    {
     "cell_type": "markdown",
     "metadata": {},
     "source": [
      "This example plots the age evolution of star-forming and quiescent star-formation histories on the U-V V-J (UVJ) colour diagram."
     ]
    },
    {
     "cell_type": "code",
     "collapsed": false,
     "input": [
      "%pylab inline\n",
      "\n",
      "import mkCSPs as S\n",
      "import numpy\n",
      "import matplotlib.pyplot as plt\n",
      "reload(S)"
     ],
     "language": "python",
     "metadata": {},
     "outputs": [
      {
       "output_type": "stream",
       "stream": "stdout",
       "text": [
        "Populating the interactive namespace from numpy and matplotlib\n"
       ]
      },
      {
       "metadata": {},
       "output_type": "pyout",
       "prompt_number": 1,
       "text": [
        "<module 'mkCSPs' from 'mkCSPs.pyc'>"
       ]
      }
     ],
     "prompt_number": 1
    },
    {
     "cell_type": "markdown",
     "metadata": {},
     "source": [
      "Setting up the U, V and J filters we want to use. Using both filter files and an EAZY filter set."
     ]
    },
    {
     "cell_type": "code",
     "collapsed": false,
     "input": [
      "filt_dir = 'filters/filt_0*.txt'\n",
      "EAZYfilters = S.LoadEAZYFilters('FILTER.RES.V8')\n",
      "\n",
      "Filts = S.FilterSet(filt_dir)\n",
      "Filts.addEAZYFilter(EAZYfilters,[125])"
     ],
     "language": "python",
     "metadata": {},
     "outputs": [],
     "prompt_number": 2
    },
    {
     "cell_type": "markdown",
     "metadata": {},
     "source": [
      "Although we could use the same CSP object for both the constant and declining star-formation histories, we'll use two to make things easier to keep track of."
     ]
    },
    {
     "cell_type": "code",
     "collapsed": false,
     "input": [
      "constant = S.CSP(0.1,1000,0,4,1.)\n",
      "declining = S.CSP(0.1,0.1,0,4,1.)"
     ],
     "language": "python",
     "metadata": {},
     "outputs": []
    },
    {
     "cell_type": "code",
     "collapsed": false,
     "input": [
      "UV_constant = []\n",
      "UV_declining = []\n",
      "VJ_constant = []\n",
      "VJ_declining = []\n",
      "\n",
      "ages = numpy.logspace(-1.,1.,11)\n",
      "\n",
      "for age in ages:\n",
      "    constant.build(age,1000,0,4,1.)\n",
      "    declining.build(age,0.1,0,4,1.)\n",
      "\n",
      "    aa.append(constant.tg/1.0e9)\n",
      "    c_obs = S.Observe(constant,Filts,0.)\n",
      "    d_obs = S.Observe(declining,Filts,0.)\n",
      "\n",
      "    UV_constant.append((c_obs.AB[0]-c_obs.AB[1]).value)\n",
      "    UV_declining.append((d_obs.AB[0]-d_obs.AB[1]).value)\n",
      "\n",
      "    VJ_constant.append((c_obs.AB[1]-c_obs.AB[2]).value)\n",
      "    VJ_declining.append((d_obs.AB[1]-d_obs.AB[2]).value)\n",
      "    "
     ],
     "language": "python",
     "metadata": {},
     "outputs": []
    },
    {
     "cell_type": "heading",
     "level": 3,
     "metadata": {},
     "source": [
      "Plot resulting colour tracks"
     ]
    },
    {
     "cell_type": "code",
     "collapsed": false,
     "input": [
      "plt.plot(VJ_constant,UV_constant,color='blue',lw=2,label=r'$\\tau = 1000$ Gyr')\n",
      "plt.plot(VJ_declining,UV_declining,color='red',lw=2,label=r'$\\tau = 0.1$ Gyr')\n",
      "\n",
      "plt.ylim([0,2.5])\n",
      "plt.xlim([-0.5,2.])\n",
      "plt.xlabel('V - J')\n",
      "plt.ylabel('U - V')\n",
      "Leg = plt.legend(loc='lower right')\n",
      "Leg.draw_frame(False)\n",
      "plt.show()"
     ],
     "language": "python",
     "metadata": {},
     "outputs": []
    },
    {
     "cell_type": "code",
     "collapsed": false,
     "input": [
      "import atpy\n",
      "import os\n",
      "ages = numpy.logspace(-1.,1.,50)\n",
      "\n",
      "\n",
      "NewTable = atpy.Table(name='UVJ')\n",
      "NewTable.add_column('Age_gyr',aa)\n",
      "NewTable.add_column('UV_constant',UV_constant)\n",
      "NewTable.add_column('VJ_constant',VJ_constant)\n",
      "NewTable.add_column('UV_declining',UV_declining)\n",
      "NewTable.add_column('VJ_declining',VJ_declining)\n",
      "os.remove('UVJ_colours.txt')\n",
      "NewTable.write('UVJ_colours.txt',type='ascii')"
     ],
     "language": "python",
     "metadata": {},
     "outputs": []
    },
    {
     "cell_type": "code",
     "collapsed": false,
     "input": [],
     "language": "python",
     "metadata": {},
     "outputs": []
    }
   ],
   "metadata": {}
  }
 ]
}