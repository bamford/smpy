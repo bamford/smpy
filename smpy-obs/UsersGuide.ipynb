{
 "metadata": {
  "name": "",
  "signature": "sha256:5c4b285f282f193348312c6aaca9b21cdf1a7f8ef18baf34b6934aa4907bbe9f"
 },
 "nbformat": 3,
 "nbformat_minor": 0,
 "worksheets": [
  {
   "cells": [
    {
     "cell_type": "heading",
     "level": 1,
     "metadata": {},
     "source": [
      "SMpy Observe"
     ]
    },
    {
     "cell_type": "heading",
     "level": 1,
     "metadata": {},
     "source": [
      "User's Guide\n"
     ]
    },
    {
     "cell_type": "markdown",
     "metadata": {},
     "source": [
      "The SMpy observation tools are intended to be flexible and easy to use, allowing for a wide range of SED and observation planning uses. But...if there are any problems, bugs or suggestions, please email <a href=\"mailto:ppxkd@nottingham.ac.uk\">ppxkd at nottingham</a>.\n",
      "\n",
      "The primary python pre-requisites are as follows:\n",
      "* numpy\n",
      "* astropy v4.0+\n",
      "\n",
      "The required <a href=\"http://www2.iap.fr/users/charlot/bc2003/\">Bruzual & Charlot</a> models are included in the SSP folder along with an example set of file filters and an EAZY filter set, the usage of which will be explained later."
     ]
    },
    {
     "cell_type": "code",
     "collapsed": false,
     "input": [
      "from mkCSPs import *\n",
      "from IPython.display import Math\n",
      "%pylab inline\n",
      " \n",
      "from pylab import *"
     ],
     "language": "python",
     "metadata": {},
     "outputs": [
      {
       "output_type": "stream",
       "stream": "stdout",
       "text": [
        "Populating the interactive namespace from numpy and matplotlib\n"
       ]
      }
     ],
     "prompt_number": 1
    },
    {
     "cell_type": "markdown",
     "metadata": {},
     "source": [
      "Populating the interactive namespace from numpy and matplotlib\n"
     ]
    },
    {
     "cell_type": "heading",
     "level": 2,
     "metadata": {},
     "source": [
      "Building composite stellar populations"
     ]
    },
    {
     "cell_type": "markdown",
     "metadata": {},
     "source": [
      "Stellar populations are built using the CSP class. A CSP object can be initiated empty:\n"
     ]
    },
    {
     "cell_type": "code",
     "collapsed": false,
     "input": [
      "Galaxy1 = CSP()"
     ],
     "language": "python",
     "metadata": {},
     "outputs": [],
     "prompt_number": 2
    },
    {
     "cell_type": "markdown",
     "metadata": {},
     "source": [
      "And the desired SED can be built using the build function.\n",
      "#### build(age, sfh, dust, metal, fesc=1.0, sfh_law ='exp'):\n",
      "* age - Time since the onset of star-formation, in Gyr\n",
      "* sfh - Star-formation history parameter.\n",
      " * For sfh_law = 'exp', sfh is the exponentially declining(+ve)/increasing(-ve) timescale in Gyr.\n",
      " * For sfh_law = 'pow', sfh is the power law exponent.\n",
      "* dust - Dust extinction A_V\n",
      "* metal - Bruzual & Charlot metalliticity index, 0 -> 5\n",
      "* fesc - Nebular emission escape fraction\n",
      "* 'sfh_law' - Desired star-formation history parametrisation"
     ]
    },
    {
     "cell_type": "code",
     "collapsed": false,
     "input": [
      "Galaxy1.build(0.5, 0.05, 1., 4) # A solar metallicity, 0.5 Gyr old stellar population with a short burst \n",
      "                                # and 1 Av of dust extinction"
     ],
     "language": "python",
     "metadata": {},
     "outputs": [],
     "prompt_number": 3
    },
    {
     "cell_type": "markdown",
     "metadata": {},
     "source": [
      "Or, SEDs can be initiated directly:\n"
     ]
    },
    {
     "cell_type": "code",
     "collapsed": false,
     "input": [
      "Galaxy2 = CSP(0.1,1.5,0.,2, fesc=0.,sfh_law='pow') # A dust-free, 100 Myr old, t^1.5 SFH, \n",
      "                                                   # 0.2 Z_sol and strong nebular emission"
     ],
     "language": "python",
     "metadata": {},
     "outputs": [],
     "prompt_number": 4
    },
    {
     "cell_type": "markdown",
     "metadata": {},
     "source": [
      "Once a CSP object has been built, you can easily access the calculated SED properties by:\n"
     ]
    },
    {
     "cell_type": "code",
     "collapsed": false,
     "input": [
      "print Galaxy1\n",
      "print ''\n",
      "print Galaxy2"
     ],
     "language": "python",
     "metadata": {},
     "outputs": [
      {
       "output_type": "stream",
       "stream": "stdout",
       "text": [
        "           Age: 0.509 Gyr\n",
        "       SFH Tau: 0.05 Gyr\n",
        "      Dust Tau: 1 Av\n",
        "           SFR: 1.17e-12 Ms/yr\n",
        "  Stellar Mass: 1 Msol\n",
        "          Beta: 4.4 \n",
        "\n",
        "           Age: 0.102 Gyr\n",
        "       SFH Tau: 1.5e-09 Gyr\n",
        "      Dust Tau: 0 Av\n",
        "           SFR: 2.94e-08 Ms/yr\n",
        "  Stellar Mass: 1 Msol\n",
        "          Beta: -2.6 \n"
       ]
      }
     ],
     "prompt_number": 5
    },
    {
     "cell_type": "markdown",
     "metadata": {},
     "source": [
      "To access the wavelength and SED arrays, simply use:\n"
     ]
    },
    {
     "cell_type": "code",
     "collapsed": false,
     "input": [
      "print Galaxy1.SED\n",
      "print Galaxy1.wave"
     ],
     "language": "python",
     "metadata": {},
     "outputs": [
      {
       "output_type": "stream",
       "stream": "stdout",
       "text": [
        "[  0.00000000e+00   0.00000000e+00   0.00000000e+00 ...,   5.00384043e-12\n",
        "   2.69361049e-12   1.57482822e-12]\n",
        "[  9.10000000e+01   9.40000000e+01   9.60000000e+01 ...,   1.20000000e+06\n",
        "   1.40000000e+06   1.60000000e+06]\n"
       ]
      }
     ],
     "prompt_number": 6
    },
    {
     "cell_type": "heading",
     "level": 4,
     "metadata": {},
     "source": [
      "Plotting SEDs\n"
     ]
    },
    {
     "cell_type": "code",
     "collapsed": false,
     "input": [
      "loglog(Galaxy1.wave,Galaxy1.SED,label='Galaxy 1')\n",
      "loglog(Galaxy2.wave,Galaxy2.SED,label='Galaxy 2')\n",
      "ylim([1e-6,1])\n",
      "xlim([500,5e4])\n",
      "Leg = legend(loc='upper right')"
     ],
     "language": "python",
     "metadata": {},
     "outputs": [
      {
       "metadata": {},
       "output_type": "display_data",
       "png": "[encoded data removed]",
       "text": [
        "<matplotlib.figure.Figure at 0x1114a9f10>"
       ]
      }
     ],
     "prompt_number": 7
    },
    {
     "cell_type": "heading",
     "level": 3,
     "metadata": {},
     "source": [
      "Combining and manipulating CSPs\n"
     ]
    },
    {
     "cell_type": "code",
     "collapsed": false,
     "input": [],
     "language": "python",
     "metadata": {},
     "outputs": []
    },
    {
     "cell_type": "heading",
     "level": 2,
     "metadata": {},
     "source": [
      "Creating filter sets"
     ]
    },
    {
     "cell_type": "code",
     "collapsed": false,
     "input": [],
     "language": "python",
     "metadata": {},
     "outputs": []
    }
   ],
   "metadata": {}
  }
 ]
}