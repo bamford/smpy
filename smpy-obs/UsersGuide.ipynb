{
 "metadata": {
  "name": "",
  "signature": "sha256:69405da0f47aa12640e96cd2de61eba2f25e6e44a5ebed84f04ca581c4044560"
 },
 "nbformat": 3,
 "nbformat_minor": 0,
 "worksheets": [
  {
   "cells": [
    {
     "cell_type": "heading",
     "level": 1,
     "metadata": {},
     "source": [
      "SMpy Observe"
     ]
    },
    {
     "cell_type": "heading",
     "level": 1,
     "metadata": {},
     "source": [
      "User's Guide\n"
     ]
    },
    {
     "cell_type": "markdown",
     "metadata": {},
     "source": [
      "The SMpy observation tools are intended to be flexible and easy to use, allowing for a wide range of SED and observation planning uses. But...if there are any problems, bugs or suggestions, please email <a href=\"mailto:ppxkd@nottingham.ac.uk\">ppxkd at nottingham</a>.\n",
      "\n",
      "The primary python pre-requisites are as follows:\n",
      "* numpy\n",
      "* matplotlib (for plotting)\n",
      "* astropy v4.0+\n",
      "\n",
      "The required <a href=\"http://www2.iap.fr/users/charlot/bc2003/\">Bruzual & Charlot</a> models are included in the SSP folder along with an example set of file filters and an EAZY filter set, the usage of which will be explained later."
     ]
    },
    {
     "cell_type": "heading",
     "level": 4,
     "metadata": {},
     "source": [
      "Installation instructions"
     ]
    },
    {
     "cell_type": "markdown",
     "metadata": {},
     "source": [
      "Currently, the best way to use the code is to download the full SMpy folder from <a href=\"http://dunkenj.github.io/smpy/\">Github</a> and work directly within the _smpy-obs_ folder. This is necessary so that the code can find the Bruzual & Charlot SSP files. I intend to improve this at some point to allow a more flexible installation.\n",
      "\n",
      "Once in the _smpy-obs_ folder, import mkCSPs as you would any other python module:"
     ]
    },
    {
     "cell_type": "code",
     "collapsed": false,
     "input": [
      "from mkCSPs import *\n",
      "from IPython.display import Math\n",
      "%pylab inline\n",
      " \n",
      "from pylab import *\n",
      "import numpy"
     ],
     "language": "python",
     "metadata": {},
     "outputs": [
      {
       "output_type": "stream",
       "stream": "stdout",
       "text": [
        "Populating the interactive namespace from numpy and matplotlib\n"
       ]
      }
     ],
     "prompt_number": 31
    },
    {
     "cell_type": "heading",
     "level": 2,
     "metadata": {},
     "source": [
      "Building composite stellar populations"
     ]
    },
    {
     "cell_type": "markdown",
     "metadata": {},
     "source": [
      "Stellar populations are built using the CSP class. A CSP object can be initiated empty, with just the SSP path set:\n"
     ]
    },
    {
     "cell_type": "code",
     "collapsed": false,
     "input": [
      "SSPpath = '../ssp/bc03/chab/lr/'\n",
      "Galaxy1 = CSP(SSPpath)\n",
      "print Galaxy1.ta_arr[0]\n",
      "x = numpy.meshgrid(0.5*1e9,Galaxy1.ta_arr[0])\n",
      "print x"
     ],
     "language": "python",
     "metadata": {},
     "outputs": [
      {
       "output_type": "stream",
       "stream": "stdout",
       "text": [
        "[  0.00000000e+00   1.25893000e+05   1.41254000e+05   1.58489000e+05\n",
        "   1.77828000e+05   1.99527000e+05   2.23873000e+05   2.51189000e+05\n",
        "   2.81839000e+05   3.16229000e+05   3.54815000e+05   3.98109000e+05\n",
        "   4.46686000e+05   5.01190000e+05   5.62344000e+05   6.30961000e+05\n",
        "   7.07950000e+05   7.94334000e+05   8.91257000e+05   1.00000000e+06\n",
        "   1.04713000e+06   1.09648000e+06   1.14815000e+06   1.20226000e+06\n",
        "   1.25893000e+06   1.31826000e+06   1.38038000e+06   1.44544000e+06\n",
        "   1.51356000e+06   1.58489000e+06   1.65959000e+06   1.73780000e+06\n",
        "   1.81970000e+06   1.90546000e+06   1.99526000e+06   2.08929000e+06\n",
        "   2.18776000e+06   2.29087000e+06   2.39883000e+06   2.51188000e+06\n",
        "   2.63027000e+06   2.75423000e+06   2.88403000e+06   3.01995000e+06\n",
        "   3.16227000e+06   3.31131000e+06   3.46736000e+06   3.63078000e+06\n",
        "   3.80189000e+06   3.98107000e+06   4.16869000e+06   4.36515000e+06\n",
        "   4.57088000e+06   4.78629000e+06   5.01186000e+06   5.24807000e+06\n",
        "   5.49540000e+06   5.75439000e+06   6.02559000e+06   6.30956000e+06\n",
        "   6.60692000e+06   6.91830000e+06   7.24435000e+06   7.58576000e+06\n",
        "   7.94327000e+06   8.31762000e+06   8.70962000e+06   9.12009000e+06\n",
        "   9.54990000e+06   9.99998000e+06   1.04713000e+07   1.09648000e+07\n",
        "   1.14815000e+07   1.20226000e+07   1.25892000e+07   1.31825000e+07\n",
        "   1.38038000e+07   1.44544000e+07   1.51356000e+07   1.58489000e+07\n",
        "   1.65958000e+07   1.73780000e+07   1.81970000e+07   1.90546000e+07\n",
        "   1.99526000e+07   2.08929000e+07   2.18776000e+07   2.29086000e+07\n",
        "   2.39883000e+07   2.51188000e+07   2.63026000e+07   2.75422000e+07\n",
        "   2.90000000e+07   3.00000000e+07   3.10000000e+07   3.20000000e+07\n",
        "   3.30000000e+07   3.40000000e+07   3.50000000e+07   3.60000000e+07\n",
        "   3.70000000e+07   3.80000000e+07   3.90000000e+07   4.00000000e+07\n",
        "   4.25000000e+07   4.50000000e+07   4.75000000e+07   5.00000000e+07\n",
        "   5.25000000e+07   5.50000000e+07   5.70880000e+07   6.40538000e+07\n",
        "   7.18696000e+07   8.06390000e+07   9.04784960e+07   1.01518000e+08\n",
        "   1.13906000e+08   1.27804000e+08   1.43399008e+08   1.60896000e+08\n",
        "   1.80528992e+08   2.02556992e+08   2.27272000e+08   2.55004000e+08\n",
        "   2.86119008e+08   3.21031008e+08   3.60203008e+08   4.04153984e+08\n",
        "   4.53468992e+08   5.08800992e+08   5.70883968e+08   6.40542976e+08\n",
        "   7.18700992e+08   8.06396032e+08   9.04792000e+08   1.01519002e+09\n",
        "   1.13906995e+09   1.27805005e+09   1.43400000e+09   1.60897997e+09\n",
        "   1.68000000e+09   1.70000000e+09   1.80000000e+09   1.90000000e+09\n",
        "   2.00000000e+09   2.10000000e+09   2.20000000e+09   2.30000000e+09\n",
        "   2.40000000e+09   2.50000000e+09   2.60000000e+09   2.75000013e+09\n",
        "   3.00000000e+09   3.24999987e+09   3.50000000e+09   3.75000013e+09\n",
        "   4.00000000e+09   4.24999987e+09   4.49999974e+09   4.75000013e+09\n",
        "   5.00000000e+09   5.24999987e+09   5.50000026e+09   5.75000013e+09\n",
        "   6.00000000e+09   6.24999987e+09   6.49999974e+09   6.75000013e+09\n",
        "   7.00000000e+09   7.24999987e+09   7.50000026e+09   7.75000013e+09\n",
        "   8.00000000e+09   8.24999987e+09   8.49999974e+09   8.75000013e+09\n",
        "   8.99999949e+09   9.24999987e+09   9.50000026e+09   9.74999962e+09\n",
        "   1.00000000e+10   1.02500004e+10   1.04999997e+10   1.07500001e+10\n",
        "   1.10000005e+10   1.12499999e+10   1.15000003e+10   1.17499996e+10\n",
        "   1.20000000e+10   1.22500004e+10   1.24999997e+10   1.27500001e+10\n",
        "   1.29999995e+10   1.32499999e+10   1.35000003e+10   1.37499996e+10\n",
        "   1.40000000e+10   1.42500004e+10   1.44999997e+10   1.47500001e+10\n",
        "   1.50000005e+10   1.52499999e+10   1.55000003e+10   1.57499996e+10\n",
        "   1.60000000e+10   1.62500004e+10   1.64999997e+10   1.67500001e+10\n",
        "   1.69999995e+10   1.72500009e+10   1.75000003e+10   1.77499996e+10\n",
        "   1.79999990e+10   1.82500004e+10   1.84999997e+10   1.87499991e+10\n",
        "   1.90000005e+10   1.92499999e+10   1.94999992e+10   1.97500006e+10\n",
        "   2.00000000e+10]\n",
        "[array([[  5.00000000e+08],\n",
        "       [  5.00000000e+08],\n",
        "       [  5.00000000e+08],\n",
        "       [  5.00000000e+08],\n",
        "       [  5.00000000e+08],\n",
        "       [  5.00000000e+08],\n",
        "       [  5.00000000e+08],\n",
        "       [  5.00000000e+08],\n",
        "       [  5.00000000e+08],\n",
        "       [  5.00000000e+08],\n",
        "       [  5.00000000e+08],\n",
        "       [  5.00000000e+08],\n",
        "       [  5.00000000e+08],\n",
        "       [  5.00000000e+08],\n",
        "       [  5.00000000e+08],\n",
        "       [  5.00000000e+08],\n",
        "       [  5.00000000e+08],\n",
        "       [  5.00000000e+08],\n",
        "       [  5.00000000e+08],\n",
        "       [  5.00000000e+08],\n",
        "       [  5.00000000e+08],\n",
        "       [  5.00000000e+08],\n",
        "       [  5.00000000e+08],\n",
        "       [  5.00000000e+08],\n",
        "       [  5.00000000e+08],\n",
        "       [  5.00000000e+08],\n",
        "       [  5.00000000e+08],\n",
        "       [  5.00000000e+08],\n",
        "       [  5.00000000e+08],\n",
        "       [  5.00000000e+08],\n",
        "       [  5.00000000e+08],\n",
        "       [  5.00000000e+08],\n",
        "       [  5.00000000e+08],\n",
        "       [  5.00000000e+08],\n",
        "       [  5.00000000e+08],\n",
        "       [  5.00000000e+08],\n",
        "       [  5.00000000e+08],\n",
        "       [  5.00000000e+08],\n",
        "       [  5.00000000e+08],\n",
        "       [  5.00000000e+08],\n",
        "       [  5.00000000e+08],\n",
        "       [  5.00000000e+08],\n",
        "       [  5.00000000e+08],\n",
        "       [  5.00000000e+08],\n",
        "       [  5.00000000e+08],\n",
        "       [  5.00000000e+08],\n",
        "       [  5.00000000e+08],\n",
        "       [  5.00000000e+08],\n",
        "       [  5.00000000e+08],\n",
        "       [  5.00000000e+08],\n",
        "       [  5.00000000e+08],\n",
        "       [  5.00000000e+08],\n",
        "       [  5.00000000e+08],\n",
        "       [  5.00000000e+08],\n",
        "       [  5.00000000e+08],\n",
        "       [  5.00000000e+08],\n",
        "       [  5.00000000e+08],\n",
        "       [  5.00000000e+08],\n",
        "       [  5.00000000e+08],\n",
        "       [  5.00000000e+08],\n",
        "       [  5.00000000e+08],\n",
        "       [  5.00000000e+08],\n",
        "       [  5.00000000e+08],\n",
        "       [  5.00000000e+08],\n",
        "       [  5.00000000e+08],\n",
        "       [  5.00000000e+08],\n",
        "       [  5.00000000e+08],\n",
        "       [  5.00000000e+08],\n",
        "       [  5.00000000e+08],\n",
        "       [  5.00000000e+08],\n",
        "       [  5.00000000e+08],\n",
        "       [  5.00000000e+08],\n",
        "       [  5.00000000e+08],\n",
        "       [  5.00000000e+08],\n",
        "       [  5.00000000e+08],\n",
        "       [  5.00000000e+08],\n",
        "       [  5.00000000e+08],\n",
        "       [  5.00000000e+08],\n",
        "       [  5.00000000e+08],\n",
        "       [  5.00000000e+08],\n",
        "       [  5.00000000e+08],\n",
        "       [  5.00000000e+08],\n",
        "       [  5.00000000e+08],\n",
        "       [  5.00000000e+08],\n",
        "       [  5.00000000e+08],\n",
        "       [  5.00000000e+08],\n",
        "       [  5.00000000e+08],\n",
        "       [  5.00000000e+08],\n",
        "       [  5.00000000e+08],\n",
        "       [  5.00000000e+08],\n",
        "       [  5.00000000e+08],\n",
        "       [  5.00000000e+08],\n",
        "       [  5.00000000e+08],\n",
        "       [  5.00000000e+08],\n",
        "       [  5.00000000e+08],\n",
        "       [  5.00000000e+08],\n",
        "       [  5.00000000e+08],\n",
        "       [  5.00000000e+08],\n",
        "       [  5.00000000e+08],\n",
        "       [  5.00000000e+08],\n",
        "       [  5.00000000e+08],\n",
        "       [  5.00000000e+08],\n",
        "       [  5.00000000e+08],\n",
        "       [  5.00000000e+08],\n",
        "       [  5.00000000e+08],\n",
        "       [  5.00000000e+08],\n",
        "       [  5.00000000e+08],\n",
        "       [  5.00000000e+08],\n",
        "       [  5.00000000e+08],\n",
        "       [  5.00000000e+08],\n",
        "       [  5.00000000e+08],\n",
        "       [  5.00000000e+08],\n",
        "       [  5.00000000e+08],\n",
        "       [  5.00000000e+08],\n",
        "       [  5.00000000e+08],\n",
        "       [  5.00000000e+08],\n",
        "       [  5.00000000e+08],\n",
        "       [  5.00000000e+08],\n",
        "       [  5.00000000e+08],\n",
        "       [  5.00000000e+08],\n",
        "       [  5.00000000e+08],\n",
        "       [  5.00000000e+08],\n",
        "       [  5.00000000e+08],\n",
        "       [  5.00000000e+08],\n",
        "       [  5.00000000e+08],\n",
        "       [  5.00000000e+08],\n",
        "       [  5.00000000e+08],\n",
        "       [  5.00000000e+08],\n",
        "       [  5.00000000e+08],\n",
        "       [  5.00000000e+08],\n",
        "       [  5.00000000e+08],\n",
        "       [  5.00000000e+08],\n",
        "       [  5.00000000e+08],\n",
        "       [  5.00000000e+08],\n",
        "       [  5.00000000e+08],\n",
        "       [  5.00000000e+08],\n",
        "       [  5.00000000e+08],\n",
        "       [  5.00000000e+08],\n",
        "       [  5.00000000e+08],\n",
        "       [  5.00000000e+08],\n",
        "       [  5.00000000e+08],\n",
        "       [  5.00000000e+08],\n",
        "       [  5.00000000e+08],\n",
        "       [  5.00000000e+08],\n",
        "       [  5.00000000e+08],\n",
        "       [  5.00000000e+08],\n",
        "       [  5.00000000e+08],\n",
        "       [  5.00000000e+08],\n",
        "       [  5.00000000e+08],\n",
        "       [  5.00000000e+08],\n",
        "       [  5.00000000e+08],\n",
        "       [  5.00000000e+08],\n",
        "       [  5.00000000e+08],\n",
        "       [  5.00000000e+08],\n",
        "       [  5.00000000e+08],\n",
        "       [  5.00000000e+08],\n",
        "       [  5.00000000e+08],\n",
        "       [  5.00000000e+08],\n",
        "       [  5.00000000e+08],\n",
        "       [  5.00000000e+08],\n",
        "       [  5.00000000e+08],\n",
        "       [  5.00000000e+08],\n",
        "       [  5.00000000e+08],\n",
        "       [  5.00000000e+08],\n",
        "       [  5.00000000e+08],\n",
        "       [  5.00000000e+08],\n",
        "       [  5.00000000e+08],\n",
        "       [  5.00000000e+08],\n",
        "       [  5.00000000e+08],\n",
        "       [  5.00000000e+08],\n",
        "       [  5.00000000e+08],\n",
        "       [  5.00000000e+08],\n",
        "       [  5.00000000e+08],\n",
        "       [  5.00000000e+08],\n",
        "       [  5.00000000e+08],\n",
        "       [  5.00000000e+08],\n",
        "       [  5.00000000e+08],\n",
        "       [  5.00000000e+08],\n",
        "       [  5.00000000e+08],\n",
        "       [  5.00000000e+08],\n",
        "       [  5.00000000e+08],\n",
        "       [  5.00000000e+08],\n",
        "       [  5.00000000e+08],\n",
        "       [  5.00000000e+08],\n",
        "       [  5.00000000e+08],\n",
        "       [  5.00000000e+08],\n",
        "       [  5.00000000e+08],\n",
        "       [  5.00000000e+08],\n",
        "       [  5.00000000e+08],\n",
        "       [  5.00000000e+08],\n",
        "       [  5.00000000e+08],\n",
        "       [  5.00000000e+08],\n",
        "       [  5.00000000e+08],\n",
        "       [  5.00000000e+08],\n",
        "       [  5.00000000e+08],\n",
        "       [  5.00000000e+08],\n",
        "       [  5.00000000e+08],\n",
        "       [  5.00000000e+08],\n",
        "       [  5.00000000e+08],\n",
        "       [  5.00000000e+08],\n",
        "       [  5.00000000e+08],\n",
        "       [  5.00000000e+08],\n",
        "       [  5.00000000e+08],\n",
        "       [  5.00000000e+08],\n",
        "       [  5.00000000e+08],\n",
        "       [  5.00000000e+08],\n",
        "       [  5.00000000e+08],\n",
        "       [  5.00000000e+08],\n",
        "       [  5.00000000e+08],\n",
        "       [  5.00000000e+08],\n",
        "       [  5.00000000e+08],\n",
        "       [  5.00000000e+08],\n",
        "       [  5.00000000e+08],\n",
        "       [  5.00000000e+08],\n",
        "       [  5.00000000e+08],\n",
        "       [  5.00000000e+08],\n",
        "       [  5.00000000e+08],\n",
        "       [  5.00000000e+08],\n",
        "       [  5.00000000e+08],\n",
        "       [  5.00000000e+08],\n",
        "       [  5.00000000e+08]]), array([[  0.00000000e+00],\n",
        "       [  1.25893000e+05],\n",
        "       [  1.41254000e+05],\n",
        "       [  1.58489000e+05],\n",
        "       [  1.77828000e+05],\n",
        "       [  1.99527000e+05],\n",
        "       [  2.23873000e+05],\n",
        "       [  2.51189000e+05],\n",
        "       [  2.81839000e+05],\n",
        "       [  3.16229000e+05],\n",
        "       [  3.54815000e+05],\n",
        "       [  3.98109000e+05],\n",
        "       [  4.46686000e+05],\n",
        "       [  5.01190000e+05],\n",
        "       [  5.62344000e+05],\n",
        "       [  6.30961000e+05],\n",
        "       [  7.07950000e+05],\n",
        "       [  7.94334000e+05],\n",
        "       [  8.91257000e+05],\n",
        "       [  1.00000000e+06],\n",
        "       [  1.04713000e+06],\n",
        "       [  1.09648000e+06],\n",
        "       [  1.14815000e+06],\n",
        "       [  1.20226000e+06],\n",
        "       [  1.25893000e+06],\n",
        "       [  1.31826000e+06],\n",
        "       [  1.38038000e+06],\n",
        "       [  1.44544000e+06],\n",
        "       [  1.51356000e+06],\n",
        "       [  1.58489000e+06],\n",
        "       [  1.65959000e+06],\n",
        "       [  1.73780000e+06],\n",
        "       [  1.81970000e+06],\n",
        "       [  1.90546000e+06],\n",
        "       [  1.99526000e+06],\n",
        "       [  2.08929000e+06],\n",
        "       [  2.18776000e+06],\n",
        "       [  2.29087000e+06],\n",
        "       [  2.39883000e+06],\n",
        "       [  2.51188000e+06],\n",
        "       [  2.63027000e+06],\n",
        "       [  2.75423000e+06],\n",
        "       [  2.88403000e+06],\n",
        "       [  3.01995000e+06],\n",
        "       [  3.16227000e+06],\n",
        "       [  3.31131000e+06],\n",
        "       [  3.46736000e+06],\n",
        "       [  3.63078000e+06],\n",
        "       [  3.80189000e+06],\n",
        "       [  3.98107000e+06],\n",
        "       [  4.16869000e+06],\n",
        "       [  4.36515000e+06],\n",
        "       [  4.57088000e+06],\n",
        "       [  4.78629000e+06],\n",
        "       [  5.01186000e+06],\n",
        "       [  5.24807000e+06],\n",
        "       [  5.49540000e+06],\n",
        "       [  5.75439000e+06],\n",
        "       [  6.02559000e+06],\n",
        "       [  6.30956000e+06],\n",
        "       [  6.60692000e+06],\n",
        "       [  6.91830000e+06],\n",
        "       [  7.24435000e+06],\n",
        "       [  7.58576000e+06],\n",
        "       [  7.94327000e+06],\n",
        "       [  8.31762000e+06],\n",
        "       [  8.70962000e+06],\n",
        "       [  9.12009000e+06],\n",
        "       [  9.54990000e+06],\n",
        "       [  9.99998000e+06],\n",
        "       [  1.04713000e+07],\n",
        "       [  1.09648000e+07],\n",
        "       [  1.14815000e+07],\n",
        "       [  1.20226000e+07],\n",
        "       [  1.25892000e+07],\n",
        "       [  1.31825000e+07],\n",
        "       [  1.38038000e+07],\n",
        "       [  1.44544000e+07],\n",
        "       [  1.51356000e+07],\n",
        "       [  1.58489000e+07],\n",
        "       [  1.65958000e+07],\n",
        "       [  1.73780000e+07],\n",
        "       [  1.81970000e+07],\n",
        "       [  1.90546000e+07],\n",
        "       [  1.99526000e+07],\n",
        "       [  2.08929000e+07],\n",
        "       [  2.18776000e+07],\n",
        "       [  2.29086000e+07],\n",
        "       [  2.39883000e+07],\n",
        "       [  2.51188000e+07],\n",
        "       [  2.63026000e+07],\n",
        "       [  2.75422000e+07],\n",
        "       [  2.90000000e+07],\n",
        "       [  3.00000000e+07],\n",
        "       [  3.10000000e+07],\n",
        "       [  3.20000000e+07],\n",
        "       [  3.30000000e+07],\n",
        "       [  3.40000000e+07],\n",
        "       [  3.50000000e+07],\n",
        "       [  3.60000000e+07],\n",
        "       [  3.70000000e+07],\n",
        "       [  3.80000000e+07],\n",
        "       [  3.90000000e+07],\n",
        "       [  4.00000000e+07],\n",
        "       [  4.25000000e+07],\n",
        "       [  4.50000000e+07],\n",
        "       [  4.75000000e+07],\n",
        "       [  5.00000000e+07],\n",
        "       [  5.25000000e+07],\n",
        "       [  5.50000000e+07],\n",
        "       [  5.70880000e+07],\n",
        "       [  6.40538000e+07],\n",
        "       [  7.18696000e+07],\n",
        "       [  8.06390000e+07],\n",
        "       [  9.04784960e+07],\n",
        "       [  1.01518000e+08],\n",
        "       [  1.13906000e+08],\n",
        "       [  1.27804000e+08],\n",
        "       [  1.43399008e+08],\n",
        "       [  1.60896000e+08],\n",
        "       [  1.80528992e+08],\n",
        "       [  2.02556992e+08],\n",
        "       [  2.27272000e+08],\n",
        "       [  2.55004000e+08],\n",
        "       [  2.86119008e+08],\n",
        "       [  3.21031008e+08],\n",
        "       [  3.60203008e+08],\n",
        "       [  4.04153984e+08],\n",
        "       [  4.53468992e+08],\n",
        "       [  5.08800992e+08],\n",
        "       [  5.70883968e+08],\n",
        "       [  6.40542976e+08],\n",
        "       [  7.18700992e+08],\n",
        "       [  8.06396032e+08],\n",
        "       [  9.04792000e+08],\n",
        "       [  1.01519002e+09],\n",
        "       [  1.13906995e+09],\n",
        "       [  1.27805005e+09],\n",
        "       [  1.43400000e+09],\n",
        "       [  1.60897997e+09],\n",
        "       [  1.68000000e+09],\n",
        "       [  1.70000000e+09],\n",
        "       [  1.80000000e+09],\n",
        "       [  1.90000000e+09],\n",
        "       [  2.00000000e+09],\n",
        "       [  2.10000000e+09],\n",
        "       [  2.20000000e+09],\n",
        "       [  2.30000000e+09],\n",
        "       [  2.40000000e+09],\n",
        "       [  2.50000000e+09],\n",
        "       [  2.60000000e+09],\n",
        "       [  2.75000013e+09],\n",
        "       [  3.00000000e+09],\n",
        "       [  3.24999987e+09],\n",
        "       [  3.50000000e+09],\n",
        "       [  3.75000013e+09],\n",
        "       [  4.00000000e+09],\n",
        "       [  4.24999987e+09],\n",
        "       [  4.49999974e+09],\n",
        "       [  4.75000013e+09],\n",
        "       [  5.00000000e+09],\n",
        "       [  5.24999987e+09],\n",
        "       [  5.50000026e+09],\n",
        "       [  5.75000013e+09],\n",
        "       [  6.00000000e+09],\n",
        "       [  6.24999987e+09],\n",
        "       [  6.49999974e+09],\n",
        "       [  6.75000013e+09],\n",
        "       [  7.00000000e+09],\n",
        "       [  7.24999987e+09],\n",
        "       [  7.50000026e+09],\n",
        "       [  7.75000013e+09],\n",
        "       [  8.00000000e+09],\n",
        "       [  8.24999987e+09],\n",
        "       [  8.49999974e+09],\n",
        "       [  8.75000013e+09],\n",
        "       [  8.99999949e+09],\n",
        "       [  9.24999987e+09],\n",
        "       [  9.50000026e+09],\n",
        "       [  9.74999962e+09],\n",
        "       [  1.00000000e+10],\n",
        "       [  1.02500004e+10],\n",
        "       [  1.04999997e+10],\n",
        "       [  1.07500001e+10],\n",
        "       [  1.10000005e+10],\n",
        "       [  1.12499999e+10],\n",
        "       [  1.15000003e+10],\n",
        "       [  1.17499996e+10],\n",
        "       [  1.20000000e+10],\n",
        "       [  1.22500004e+10],\n",
        "       [  1.24999997e+10],\n",
        "       [  1.27500001e+10],\n",
        "       [  1.29999995e+10],\n",
        "       [  1.32499999e+10],\n",
        "       [  1.35000003e+10],\n",
        "       [  1.37499996e+10],\n",
        "       [  1.40000000e+10],\n",
        "       [  1.42500004e+10],\n",
        "       [  1.44999997e+10],\n",
        "       [  1.47500001e+10],\n",
        "       [  1.50000005e+10],\n",
        "       [  1.52499999e+10],\n",
        "       [  1.55000003e+10],\n",
        "       [  1.57499996e+10],\n",
        "       [  1.60000000e+10],\n",
        "       [  1.62500004e+10],\n",
        "       [  1.64999997e+10],\n",
        "       [  1.67500001e+10],\n",
        "       [  1.69999995e+10],\n",
        "       [  1.72500009e+10],\n",
        "       [  1.75000003e+10],\n",
        "       [  1.77499996e+10],\n",
        "       [  1.79999990e+10],\n",
        "       [  1.82500004e+10],\n",
        "       [  1.84999997e+10],\n",
        "       [  1.87499991e+10],\n",
        "       [  1.90000005e+10],\n",
        "       [  1.92499999e+10],\n",
        "       [  1.94999992e+10],\n",
        "       [  1.97500006e+10],\n",
        "       [  2.00000000e+10]])]\n"
       ]
      }
     ],
     "prompt_number": 36
    },
    {
     "cell_type": "markdown",
     "metadata": {},
     "source": [
      "And the desired SED can be built using the build function.\n",
      "#### build(age, sfh, dust, metal, fesc=1.0, sfh_law ='exp'):\n",
      "* age - Time since the onset of star-formation, in Gyr\n",
      "* sfh - Star-formation history parameter.\n",
      " * For sfh_law = 'exp', sfh is the exponentially declining(+ve)/increasing(-ve) timescale in Gyr.\n",
      " * For sfh_law = 'pow', sfh is the power law exponent.\n",
      "* dust - Dust extinction A_V\n",
      "* metal - Bruzual & Charlot metalliticity index, 0 -> 5\n",
      "* fesc - Nebular emission escape fraction\n",
      "* 'sfh_law' - Desired star-formation history parametrisation\n",
      "* dustmodel - 'calzetti' or 'charlot' (Charlot and Fall 2000) dust attenuation models\n",
      "* neb_cont = True - include nebular continuum emission\n",
      "* neb_met = True - include nebular metal lines"
     ]
    },
    {
     "cell_type": "code",
     "collapsed": false,
     "input": [
      "Galaxy1.build(0.5, 0.05, 1., 4) # A solar metallicity, 0.5 Gyr old stellar population with a short burst \n",
      "                                # and 1 Av of dust extinction"
     ],
     "language": "python",
     "metadata": {},
     "outputs": [],
     "prompt_number": 27
    },
    {
     "cell_type": "markdown",
     "metadata": {},
     "source": [
      "Or, SEDs can be initiated directly:\n"
     ]
    },
    {
     "cell_type": "code",
     "collapsed": false,
     "input": [
      "Galaxy2 = CSP(SSPpath,0.1,1.5,0.,2,fesc=0.,sfh_law='pow') # A dust-free, 100 Myr old, t^1.5 SFH, \n",
      "                                                   # 0.2 Z_sol and strong nebular emission"
     ],
     "language": "python",
     "metadata": {},
     "outputs": [],
     "prompt_number": 4
    },
    {
     "cell_type": "markdown",
     "metadata": {},
     "source": [
      "Once a CSP object has been built, you can easily access the calculated SED properties by:\n"
     ]
    },
    {
     "cell_type": "code",
     "collapsed": false,
     "input": [
      "print Galaxy1\n",
      "print ''\n",
      "print Galaxy2"
     ],
     "language": "python",
     "metadata": {},
     "outputs": [
      {
       "output_type": "stream",
       "stream": "stdout",
       "text": [
        "           Age: 0.509 Gyr\n",
        "       SFH Tau: 0.05 Gyr\n",
        "      Dust Tau: 1 Av\n",
        "           SFR: 1.17e-12 Ms/yr\n",
        "  Stellar Mass: 1 Msol\n",
        "          Beta: 4.4 \n",
        "\n",
        "           Age: 0.102 Gyr\n",
        "       SFH Tau: 1.5e-09 Gyr\n",
        "      Dust Tau: 0 Av\n",
        "           SFR: 2.94e-08 Ms/yr\n",
        "  Stellar Mass: 1 Msol\n",
        "          Beta: -2.6 \n"
       ]
      }
     ],
     "prompt_number": 5
    },
    {
     "cell_type": "markdown",
     "metadata": {},
     "source": [
      "To access the wavelength and SED arrays, simply use:\n"
     ]
    },
    {
     "cell_type": "code",
     "collapsed": false,
     "input": [
      "print Galaxy1.SED\n",
      "print Galaxy1.wave"
     ],
     "language": "python",
     "metadata": {},
     "outputs": [
      {
       "output_type": "stream",
       "stream": "stdout",
       "text": [
        "[  0.00000000e+00   0.00000000e+00   0.00000000e+00 ...,   5.00384043e-12\n",
        "   2.69361049e-12   1.57482822e-12]\n",
        "[  9.10000000e+01   9.40000000e+01   9.60000000e+01 ...,   1.20000000e+06\n",
        "   1.40000000e+06   1.60000000e+06]\n"
       ]
      }
     ],
     "prompt_number": 6
    },
    {
     "cell_type": "heading",
     "level": 3,
     "metadata": {},
     "source": [
      "Manipulating and combining CSPs\n"
     ]
    },
    {
     "cell_type": "markdown",
     "metadata": {},
     "source": [
      "Built SEDs are initially normalised to 1 Solar Mass. However, scaling and adding different CSP objects can be done with the basic arithmatic operators:"
     ]
    },
    {
     "cell_type": "code",
     "collapsed": false,
     "input": [
      "Galaxy1 = Galaxy1 * 1e11\n",
      "Galaxy2 = Galaxy2 * 1e9\n",
      "\n",
      "print log10(Galaxy1.Ms), Galaxy1.SFR\n",
      "print log10(Galaxy2.Ms), Galaxy2.SFR\n",
      "\n",
      "Galaxy3 = Galaxy1 + Galaxy2\n",
      "print log10(Galaxy3.Ms), Galaxy3.SFR\n",
      "\n",
      "Galaxy3 *= 1.5\n",
      "print log10(Galaxy3.Ms), Galaxy2.SFR"
     ],
     "language": "python",
     "metadata": {},
     "outputs": [
      {
       "output_type": "stream",
       "stream": "stdout",
       "text": [
        "11.0 0.117306215484\n",
        "9.0 29.4069594418\n",
        "11.0043213738"
       ]
      },
      {
       "output_type": "stream",
       "stream": "stdout",
       "text": [
        " 29.5242656573\n",
        "11.1804126328 29.4069594418\n"
       ]
      }
     ],
     "prompt_number": 7
    },
    {
     "cell_type": "markdown",
     "metadata": {},
     "source": [
      "The CSP objects can be combined and normalised in more complicated ways:"
     ]
    },
    {
     "cell_type": "code",
     "collapsed": false,
     "input": [
      "Galaxy4 = ((Galaxy1 / Galaxy1.Ms) + (Galaxy2 / Galaxy2.Ms)) * 1e9\n",
      "print Galaxy4"
     ],
     "language": "python",
     "metadata": {},
     "outputs": [
      {
       "output_type": "stream",
       "stream": "stdout",
       "text": [
        "           Age: 0.509 Gyr\n",
        "       SFH Tau: 0.05 Gyr\n",
        "      Dust Tau: 1 Av\n",
        "           SFR: 29.4 Ms/yr\n",
        "  Stellar Mass: 2e+09 Msol\n",
        "          Beta: -2.6 \n"
       ]
      }
     ],
     "prompt_number": 8
    },
    {
     "cell_type": "heading",
     "level": 3,
     "metadata": {},
     "source": [
      "Manually adding emission lines"
     ]
    },
    {
     "cell_type": "markdown",
     "metadata": {},
     "source": [
      "To add an emission line at an arbitrary wavelength with an arbitrary equivalent width:"
     ]
    },
    {
     "cell_type": "code",
     "collapsed": false,
     "input": [
      "Galaxy3.addEmissionLine(1908,10) # CIII Ultra-violet emission line with an equivalent width of 10 Angstrom"
     ],
     "language": "python",
     "metadata": {},
     "outputs": [
      {
       "output_type": "stream",
       "stream": "stdout",
       "text": [
        "224\n",
        "10.0\n",
        "192097231.942\n",
        "1920972319.42 192097231.942\n"
       ]
      }
     ],
     "prompt_number": 24
    },
    {
     "cell_type": "heading",
     "level": 4,
     "metadata": {},
     "source": [
      "Plotting SEDs\n"
     ]
    },
    {
     "cell_type": "code",
     "collapsed": false,
     "input": [
      "loglog(Galaxy1.wave,Galaxy1.SED,label='Galaxy 1')\n",
      "loglog(Galaxy2.wave,Galaxy2.SED,label='Galaxy 2')\n",
      "loglog(Galaxy3.wave,Galaxy3.SED,label='Galaxy 1+2')\n",
      "\n",
      "ylim([1e3,1e9])\n",
      "xlim([500,5e4])\n",
      "xlabel(r'Wavelength [$\\AA$]')\n",
      "ylabel(r'Flux [$L_{\\odot} \\AA^{-1}$]')\n",
      "Leg = legend(loc='lower right')"
     ],
     "language": "python",
     "metadata": {},
     "outputs": [
      {
       "metadata": {},
       "output_type": "display_data",
       "png": "[encoded data removed]",
       "text": [
        "<matplotlib.figure.Figure at 0x112f9aad0>"
       ]
      }
     ],
     "prompt_number": 23
    },
    {
     "cell_type": "markdown",
     "metadata": {},
     "source": [
      " \n",
      " \n",
      "___"
     ]
    },
    {
     "cell_type": "heading",
     "level": 2,
     "metadata": {},
     "source": [
      "Creating filter sets"
     ]
    },
    {
     "cell_type": "markdown",
     "metadata": {},
     "source": [
      "In order to do the synthetic photometry on the SEDs we have created, we need to create a filter set. A _FilterSet_ object is a collection of individual _Filter_ objects which can be incorporated or created in a range of ways.\n",
      "\n",
      "An empty _FilterSet_ can be initiated as..."
     ]
    },
    {
     "cell_type": "code",
     "collapsed": false,
     "input": [
      "FiltSet1 = FilterSet()"
     ],
     "language": "python",
     "metadata": {},
     "outputs": [],
     "prompt_number": 10
    },
    {
     "cell_type": "markdown",
     "metadata": {},
     "source": [
      "One option for creating a filter is to generate a simple tophat filter at a desired wavelength and width:"
     ]
    },
    {
     "cell_type": "code",
     "collapsed": false,
     "input": [
      "FiltSet1.addTophatFilter(1500,150) # 150 Angstrom wide tophat filter centered at 1500A"
     ],
     "language": "python",
     "metadata": {},
     "outputs": [],
     "prompt_number": 11
    },
    {
     "cell_type": "markdown",
     "metadata": {},
     "source": [
      "Filters can also be included from a library of commonly used filters based on the format of EAZY (the latest EAZY filter compilation is included in the github). The EAZY filter library must first be loaded into its own class:"
     ]
    },
    {
     "cell_type": "code",
     "collapsed": false,
     "input": [
      "EAZYfilters = LoadEAZYFilters('FILTER.RES.V8')"
     ],
     "language": "python",
     "metadata": {},
     "outputs": [],
     "prompt_number": 12
    },
    {
     "cell_type": "markdown",
     "metadata": {},
     "source": [
      "The filters included in the set can be accessed through the _.filternames_ attribute, along with the corresponding central wavelengths. E.g."
     ]
    },
    {
     "cell_type": "code",
     "collapsed": false,
     "input": [
      "print EAZYfilters.filternames[125:127]\n",
      "print EAZYfilters.central_wlengths[125:127].to(U.micron)"
     ],
     "language": "python",
     "metadata": {},
     "outputs": [
      {
       "output_type": "stream",
       "stream": "stdout",
       "text": [
        "['UKIDSS/J.txt', 'UKIDSS/K.txt']\n",
        "[ 1.25106196  2.20848924] micron\n"
       ]
      }
     ],
     "prompt_number": 13
    },
    {
     "cell_type": "markdown",
     "metadata": {},
     "source": [
      "To add the desired EAZY filters to the filter set: "
     ]
    },
    {
     "cell_type": "code",
     "collapsed": false,
     "input": [
      "FiltSet1.addEAZYFilter(EAZYfilters,[125,126]) # where [125, 126] is any length list with indices \n",
      "                                              # in the desired order\n",
      "print '\\n'"
     ],
     "language": "python",
     "metadata": {},
     "outputs": [
      {
       "output_type": "stream",
       "stream": "stdout",
       "text": [
        "\n",
        "\n"
       ]
      }
     ],
     "prompt_number": 14
    },
    {
     "cell_type": "markdown",
     "metadata": {},
     "source": [
      "Filter sets can also be generated directly from a set of filter files:"
     ]
    },
    {
     "cell_type": "code",
     "collapsed": false,
     "input": [
      "filt_dir = 'filters/filt_0*.txt'\n",
      "FiltSet2 = FilterSet(filt_dir)"
     ],
     "language": "python",
     "metadata": {},
     "outputs": [],
     "prompt_number": 15
    },
    {
     "cell_type": "markdown",
     "metadata": {},
     "source": [
      "Or, to add a filter file to an existing _FilterSet_:"
     ]
    },
    {
     "cell_type": "code",
     "collapsed": false,
     "input": [
      "FiltSet1.addFileFilter('filters/filt_01_bessell_U.txt')"
     ],
     "language": "python",
     "metadata": {},
     "outputs": [],
     "prompt_number": 16
    },
    {
     "cell_type": "markdown",
     "metadata": {},
     "source": [
      "_ _"
     ]
    },
    {
     "cell_type": "markdown",
     "metadata": {},
     "source": [
      "Any of the filters added to a filterset can be accessed through the _.filters_ attribute. For example, plotting the filter responses:"
     ]
    },
    {
     "cell_type": "code",
     "collapsed": false,
     "input": [
      "for filt in FiltSet1.filters:\n",
      "    semilogx(filt.wave,filt.response)\n",
      "for filt in FiltSet2.filters:\n",
      "    semilogx(filt.wave,filt.response,'--')\n",
      "    \n",
      "xlabel(r'Wavelength [$\\AA$]')\n",
      "ylabel('Response')"
     ],
     "language": "python",
     "metadata": {},
     "outputs": [
      {
       "metadata": {},
       "output_type": "pyout",
       "prompt_number": 17,
       "text": [
        "<matplotlib.text.Text at 0x112ecc990>"
       ]
      },
      {
       "metadata": {},
       "output_type": "display_data",
       "png": "[encoded data removed]",
       "text": [
        "<matplotlib.figure.Figure at 0x10f0af810>"
       ]
      }
     ],
     "prompt_number": 17
    },
    {
     "cell_type": "heading",
     "level": 2,
     "metadata": {},
     "source": [
      "Making synthetic observations"
     ]
    },
    {
     "cell_type": "markdown",
     "metadata": {},
     "source": [
      "The final class is the _Observe_ class which takes a _CSP_ SED and convolves it with a _FilterSet_ at any desired redshift. The result is an object which contains the resulting fluxes (in Jy) and magnitudes (in AB)."
     ]
    },
    {
     "cell_type": "code",
     "collapsed": false,
     "input": [
      "Obs1 = Observe(Galaxy1, FiltSet1, 0.3) # Galaxy1 through FiltSet1 at z = 0.3\n",
      "\n",
      "print Obs1.AB\n",
      "print Obs1.fluxes"
     ],
     "language": "python",
     "metadata": {},
     "outputs": [
      {
       "output_type": "stream",
       "stream": "stdout",
       "text": [
        "[ 26.63315295  16.72814137  16.32333272  20.5608554 ] mag\n",
        "[  8.06749711e-08   7.39168505e-04   1.07316602e-03   2.16599694e-05] Jy\n"
       ]
      }
     ],
     "prompt_number": 18
    },
    {
     "cell_type": "code",
     "collapsed": false,
     "input": [
      "Obs2 = Observe(Galaxy2, FiltSet1, 1.5)\n",
      "\n",
      "print Obs2.AB # Note how the 1500A has no flux because the \n",
      "              # Lyman break has redshift outside the filter\n",
      "print '\\n'"
     ],
     "language": "python",
     "metadata": {},
     "outputs": [
      {
       "output_type": "stream",
       "stream": "stdout",
       "text": [
        "[         inf  21.61962717  22.58495087  22.03107161] mag\n",
        "\n",
        "\n"
       ]
      }
     ],
     "prompt_number": 19
    },
    {
     "cell_type": "markdown",
     "metadata": {},
     "source": [
      "By default, the code will not 'observe' a galaxy which is older than the age of the universe at the desired redshift. However, this can be overridden with the keyword _force_age = False_."
     ]
    },
    {
     "cell_type": "code",
     "collapsed": false,
     "input": [
      "Galaxy5 = CSP(SSPpath,10.,0.5,0.,4) \n",
      "Galaxy5 *= 5e10\n",
      "Obs3 = Observe(Galaxy5, FiltSet1, 2.) \n",
      "Obs3 = Observe(Galaxy5, FiltSet1, 2., force_age=False)\n",
      "\n",
      "print Obs3.AB[2]\n",
      "\n",
      "#Obs4 = Observe(Galaxy5, FiltSet1, [0.5,1.,1.5,2.])\n",
      "#print Obs4.mag"
     ],
     "language": "python",
     "metadata": {},
     "outputs": [
      {
       "output_type": "stream",
       "stream": "stdout",
       "text": [
        "SSP age older than universe...stopping.\n",
        "23.452067506 mag"
       ]
      },
      {
       "output_type": "stream",
       "stream": "stdout",
       "text": [
        "\n"
       ]
      }
     ],
     "prompt_number": 21
    },
    {
     "cell_type": "code",
     "collapsed": false,
     "input": [],
     "language": "python",
     "metadata": {},
     "outputs": []
    }
   ],
   "metadata": {}
  }
 ]
}