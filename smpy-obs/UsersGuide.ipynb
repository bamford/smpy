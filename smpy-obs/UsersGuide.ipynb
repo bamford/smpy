{
 "metadata": {
  "name": "",
  "signature": "sha256:2134420756ed158180f4a473fe86af514b426abab532da05f7f9feacc10d00cb"
 },
 "nbformat": 3,
 "nbformat_minor": 0,
 "worksheets": [
  {
   "cells": [
    {
     "cell_type": "heading",
     "level": 1,
     "metadata": {},
     "source": [
      "SMpy Observe"
     ]
    },
    {
     "cell_type": "heading",
     "level": 1,
     "metadata": {},
     "source": [
      "User's Guide\n"
     ]
    },
    {
     "cell_type": "markdown",
     "metadata": {},
     "source": [
      "The SMpy observation tools are intended to be flexible and easy to use, allowing for a wide range of SED and observation planning uses. But...if there are any problems, bugs or suggestions, please email <a href=\"mailto:ppxkd@nottingham.ac.uk\">ppxkd at nottingham</a>.\n",
      "\n",
      "The primary python pre-requisites are as follows:\n",
      "* numpy\n",
      "* matplotlib (for plotting)\n",
      "* astropy v4.0+\n",
      "\n",
      "The required <a href=\"http://www2.iap.fr/users/charlot/bc2003/\">Bruzual & Charlot</a> models are included in the SSP folder along with an example set of file filters and an EAZY filter set, the usage of which will be explained later."
     ]
    },
    {
     "cell_type": "heading",
     "level": 4,
     "metadata": {},
     "source": [
      "Installation instructions"
     ]
    },
    {
     "cell_type": "markdown",
     "metadata": {},
     "source": [
      "Currently, the best way to use the code is to download the full SMpy folder from <a href=\"http://dunkenj.github.io/smpy/\">Github</a> and work directly within the _smpy-obs_ folder. This is necessary so that the code can find the Bruzual & Charlot SSP files. I intend to improve this at some point to allow a more flexible installation.\n",
      "\n",
      "Once in the _smpy-obs_ folder, import mkCSPs as you would any other python module:"
     ]
    },
    {
     "cell_type": "code",
     "collapsed": false,
     "input": [
      "from mkCSPs import *\n",
      "from IPython.display import Math\n",
      "%pylab inline\n",
      " \n",
      "from pylab import *"
     ],
     "language": "python",
     "metadata": {},
     "outputs": [
      {
       "output_type": "stream",
       "stream": "stdout",
       "text": [
        "Populating the interactive namespace from numpy and matplotlib\n"
       ]
      }
     ],
     "prompt_number": 2
    },
    {
     "cell_type": "heading",
     "level": 2,
     "metadata": {},
     "source": [
      "Building composite stellar populations"
     ]
    },
    {
     "cell_type": "markdown",
     "metadata": {},
     "source": [
      "Stellar populations are built using the CSP class. A CSP object can be initiated empty:\n"
     ]
    },
    {
     "cell_type": "code",
     "collapsed": false,
     "input": [
      "Galaxy1 = CSP()"
     ],
     "language": "python",
     "metadata": {},
     "outputs": [],
     "prompt_number": 3
    },
    {
     "cell_type": "markdown",
     "metadata": {},
     "source": [
      "And the desired SED can be built using the build function.\n",
      "#### build(age, sfh, dust, metal, fesc=1.0, sfh_law ='exp'):\n",
      "* age - Time since the onset of star-formation, in Gyr\n",
      "* sfh - Star-formation history parameter.\n",
      " * For sfh_law = 'exp', sfh is the exponentially declining(+ve)/increasing(-ve) timescale in Gyr.\n",
      " * For sfh_law = 'pow', sfh is the power law exponent.\n",
      "* dust - Dust extinction A_V\n",
      "* metal - Bruzual & Charlot metalliticity index, 0 -> 5\n",
      "* fesc - Nebular emission escape fraction\n",
      "* 'sfh_law' - Desired star-formation history parametrisation"
     ]
    },
    {
     "cell_type": "code",
     "collapsed": false,
     "input": [
      "Galaxy1.build(0.5, 0.05, 1., 4) # A solar metallicity, 0.5 Gyr old stellar population with a short burst \n",
      "                                # and 1 Av of dust extinction"
     ],
     "language": "python",
     "metadata": {},
     "outputs": [],
     "prompt_number": 4
    },
    {
     "cell_type": "markdown",
     "metadata": {},
     "source": [
      "Or, SEDs can be initiated directly:\n"
     ]
    },
    {
     "cell_type": "code",
     "collapsed": false,
     "input": [
      "Galaxy2 = CSP(0.1,1.5,0.,2, fesc=0.,sfh_law='pow') # A dust-free, 100 Myr old, t^1.5 SFH, \n",
      "                                                   # 0.2 Z_sol and strong nebular emission"
     ],
     "language": "python",
     "metadata": {},
     "outputs": [],
     "prompt_number": 5
    },
    {
     "cell_type": "markdown",
     "metadata": {},
     "source": [
      "Once a CSP object has been built, you can easily access the calculated SED properties by:\n"
     ]
    },
    {
     "cell_type": "code",
     "collapsed": false,
     "input": [
      "print Galaxy1\n",
      "print ''\n",
      "print Galaxy2"
     ],
     "language": "python",
     "metadata": {},
     "outputs": [
      {
       "output_type": "stream",
       "stream": "stdout",
       "text": [
        "           Age: 0.509 Gyr\n",
        "       SFH Tau: 0.05 Gyr\n",
        "      Dust Tau: 1 Av\n",
        "           SFR: 1.17e-12 Ms/yr\n",
        "  Stellar Mass: 1 Msol\n",
        "          Beta: 4.4 \n",
        "\n",
        "           Age: 0.102 Gyr\n",
        "       SFH Tau: 1.5e-09 Gyr\n",
        "      Dust Tau: 0 Av\n",
        "           SFR: 2.94e-08 Ms/yr\n",
        "  Stellar Mass: 1 Msol\n",
        "          Beta: -2.6 \n"
       ]
      }
     ],
     "prompt_number": 6
    },
    {
     "cell_type": "markdown",
     "metadata": {},
     "source": [
      "To access the wavelength and SED arrays, simply use:\n"
     ]
    },
    {
     "cell_type": "code",
     "collapsed": false,
     "input": [
      "print Galaxy1.SED\n",
      "print Galaxy1.wave"
     ],
     "language": "python",
     "metadata": {},
     "outputs": [
      {
       "output_type": "stream",
       "stream": "stdout",
       "text": [
        "[  0.00000000e+00   0.00000000e+00   0.00000000e+00 ...,   5.00384043e-12\n",
        "   2.69361049e-12   1.57482822e-12]\n",
        "[  9.10000000e+01   9.40000000e+01   9.60000000e+01 ...,   1.20000000e+06\n",
        "   1.40000000e+06   1.60000000e+06]\n"
       ]
      }
     ],
     "prompt_number": 7
    },
    {
     "cell_type": "heading",
     "level": 3,
     "metadata": {},
     "source": [
      "Manipulating and combining CSPs\n"
     ]
    },
    {
     "cell_type": "markdown",
     "metadata": {},
     "source": [
      "Built SEDs are initially normalised to 1 Solar Mass. However, scaling and adding different CSP objects can be done with the basic arithmatic operators:"
     ]
    },
    {
     "cell_type": "code",
     "collapsed": false,
     "input": [
      "Galaxy1 = Galaxy1 * 1e11\n",
      "Galaxy2 = Galaxy2 * 1e9\n",
      "\n",
      "print log10(Galaxy1.Ms), Galaxy1.SFR\n",
      "print log10(Galaxy2.Ms), Galaxy2.SFR\n",
      "\n",
      "Galaxy3 = Galaxy1 + Galaxy2\n",
      "print log10(Galaxy3.Ms), Galaxy3.SFR\n",
      "\n",
      "Galaxy3 *= 1.5\n",
      "print log10(Galaxy3.Ms), Galaxy2.SFR"
     ],
     "language": "python",
     "metadata": {},
     "outputs": [
      {
       "output_type": "stream",
       "stream": "stdout",
       "text": [
        "11.0 0.117306215484\n",
        "9.0 29.4069594418\n",
        "11.0043213738"
       ]
      },
      {
       "output_type": "stream",
       "stream": "stdout",
       "text": [
        " 29.5242656573\n",
        "11.1804126328 29.4069594418\n"
       ]
      }
     ],
     "prompt_number": 8
    },
    {
     "cell_type": "markdown",
     "metadata": {},
     "source": [
      "The CSP objects can be combined and normalised in more complicated ways:"
     ]
    },
    {
     "cell_type": "code",
     "collapsed": false,
     "input": [
      "Galaxy4 = ((Galaxy1 / Galaxy1.Ms) + (Galaxy2 / Galaxy2.Ms)) * 1e9\n",
      "print Galaxy4"
     ],
     "language": "python",
     "metadata": {},
     "outputs": [
      {
       "output_type": "stream",
       "stream": "stdout",
       "text": [
        "           Age: 0.509 Gyr\n",
        "       SFH Tau: 0.05 Gyr\n",
        "      Dust Tau: 1 Av\n",
        "           SFR: 29.4 Ms/yr\n",
        "  Stellar Mass: 2e+09 Msol\n",
        "          Beta: -2.6 \n"
       ]
      }
     ],
     "prompt_number": 9
    },
    {
     "cell_type": "heading",
     "level": 4,
     "metadata": {},
     "source": [
      "Plotting SEDs\n"
     ]
    },
    {
     "cell_type": "code",
     "collapsed": false,
     "input": [
      "loglog(Galaxy1.wave,Galaxy1.SED,label='Galaxy 1')\n",
      "loglog(Galaxy2.wave,Galaxy2.SED,label='Galaxy 2')\n",
      "loglog(Galaxy3.wave,Galaxy3.SED,label='Galaxy 1+2')\n",
      "\n",
      "ylim([1e3,1e9])\n",
      "xlim([500,5e4])\n",
      "xlabel(r'Wavelength [$\\AA$]')\n",
      "ylabel(r'Flux [$L_{\\odot} \\AA^{-1}$]')\n",
      "Leg = legend(loc='lower right')"
     ],
     "language": "python",
     "metadata": {},
     "outputs": [
      {
       "metadata": {},
       "output_type": "display_data",
       "png": "[encoded data removed]",
       "text": [
        "<matplotlib.figure.Figure at 0x1062570d0>"
       ]
      }
     ],
     "prompt_number": 10
    },
    {
     "cell_type": "markdown",
     "metadata": {},
     "source": [
      " \n",
      " \n",
      "___"
     ]
    },
    {
     "cell_type": "heading",
     "level": 2,
     "metadata": {},
     "source": [
      "Creating filter sets"
     ]
    },
    {
     "cell_type": "markdown",
     "metadata": {},
     "source": [
      "In order to do the synthetic photometry on the SEDs we have created, we need to create a filter set. A _FilterSet_ object is a collection of individual _Filter_ objects which can be incorporated or created in a range of ways.\n",
      "\n",
      "An empty _FilterSet_ can be initiated as..."
     ]
    },
    {
     "cell_type": "code",
     "collapsed": false,
     "input": [
      "FiltSet1 = FilterSet()"
     ],
     "language": "python",
     "metadata": {},
     "outputs": [],
     "prompt_number": 11
    },
    {
     "cell_type": "markdown",
     "metadata": {},
     "source": [
      "One option for creating a filter is to generate a simple tophat filter at a desired wavelength and width:"
     ]
    },
    {
     "cell_type": "code",
     "collapsed": false,
     "input": [
      "FiltSet1.addTophatFilter(1500,150) # 150 Angstrom wide tophat filter centered at 1500A"
     ],
     "language": "python",
     "metadata": {},
     "outputs": [],
     "prompt_number": 12
    },
    {
     "cell_type": "markdown",
     "metadata": {},
     "source": [
      "Filters can also be included from a library of commonly used filters based on the format of EAZY (the latest EAZY filter compilation is included in the github). The EAZY filter library must first be loaded into its own class:"
     ]
    },
    {
     "cell_type": "code",
     "collapsed": false,
     "input": [
      "EAZYfilters = LoadEAZYFilters('FILTER.RES.V8')"
     ],
     "language": "python",
     "metadata": {},
     "outputs": [],
     "prompt_number": 13
    },
    {
     "cell_type": "markdown",
     "metadata": {},
     "source": [
      "The filters included in the set can be accessed through the _.filternames_ attribute, along with the corresponding central wavelengths. E.g."
     ]
    },
    {
     "cell_type": "code",
     "collapsed": false,
     "input": [
      "print EAZYfilters.filternames[125:127]\n",
      "print EAZYfilters.central_wlengths[125:127].to(U.micron)"
     ],
     "language": "python",
     "metadata": {},
     "outputs": [
      {
       "output_type": "stream",
       "stream": "stdout",
       "text": [
        "['UKIDSS/J.txt', 'UKIDSS/K.txt']\n",
        "[ 1.25106196  2.20848924] micron\n"
       ]
      }
     ],
     "prompt_number": 14
    },
    {
     "cell_type": "markdown",
     "metadata": {},
     "source": [
      "To add the desired EAZY filters to the filter set: "
     ]
    },
    {
     "cell_type": "code",
     "collapsed": false,
     "input": [
      "FiltSet1.addEAZYFilter(EAZYfilters,[125,126]) # where [125, 126] is any length list with indices \n",
      "                                              # in the desired order\n",
      "print '\\n'"
     ],
     "language": "python",
     "metadata": {},
     "outputs": [
      {
       "output_type": "stream",
       "stream": "stdout",
       "text": [
        "\n",
        "\n"
       ]
      }
     ],
     "prompt_number": 15
    },
    {
     "cell_type": "markdown",
     "metadata": {},
     "source": [
      "Filter sets can also be generated directly from a set of filter files:"
     ]
    },
    {
     "cell_type": "code",
     "collapsed": false,
     "input": [
      "filt_dir = 'filters/filt_0*.txt'\n",
      "FiltSet2 = FilterSet(filt_dir)"
     ],
     "language": "python",
     "metadata": {},
     "outputs": [],
     "prompt_number": 16
    },
    {
     "cell_type": "markdown",
     "metadata": {},
     "source": [
      "Or, to add a filter file to an existing _FilterSet_:"
     ]
    },
    {
     "cell_type": "code",
     "collapsed": false,
     "input": [
      "FiltSet1.addFileFilter('filters/filt_01_bessell_U.txt')"
     ],
     "language": "python",
     "metadata": {},
     "outputs": [],
     "prompt_number": 17
    },
    {
     "cell_type": "markdown",
     "metadata": {},
     "source": [
      "_ _"
     ]
    },
    {
     "cell_type": "markdown",
     "metadata": {},
     "source": [
      "Any of the filters added to a filterset can be accessed through the _.filters_ attribute. For example, plotting the filter responses:"
     ]
    },
    {
     "cell_type": "code",
     "collapsed": false,
     "input": [
      "for filt in FiltSet1.filters:\n",
      "    semilogx(filt.wave,filt.response)\n",
      "for filt in FiltSet2.filters:\n",
      "    semilogx(filt.wave,filt.response,'--')\n",
      "    \n",
      "xlabel(r'Wavelength [$\\AA$]')\n",
      "ylabel('Response')"
     ],
     "language": "python",
     "metadata": {},
     "outputs": [
      {
       "metadata": {},
       "output_type": "pyout",
       "prompt_number": 18,
       "text": [
        "<matplotlib.text.Text at 0x101d93950>"
       ]
      },
      {
       "metadata": {},
       "output_type": "display_data",
       "png": "[encoded data removed]",
       "text": [
        "<matplotlib.figure.Figure at 0x1026f20d0>"
       ]
      }
     ],
     "prompt_number": 18
    },
    {
     "cell_type": "heading",
     "level": 2,
     "metadata": {},
     "source": [
      "Making synthetic observations"
     ]
    },
    {
     "cell_type": "markdown",
     "metadata": {},
     "source": [
      "The final class is the _Observe_ class which takes a _CSP_ SED and convolves it with a _FilterSet_ at any desired redshift. The result is an object which contains the resulting fluxes (in Jy) and magnitudes (in AB)."
     ]
    },
    {
     "cell_type": "code",
     "collapsed": false,
     "input": [
      "Obs1 = Observe(Galaxy1, FiltSet1, 0.3) # Galaxy1 through FiltSet1 at z = 0.3\n",
      "\n",
      "print Obs1.AB\n",
      "print Obs1.fluxes"
     ],
     "language": "python",
     "metadata": {},
     "outputs": [
      {
       "output_type": "stream",
       "stream": "stdout",
       "text": [
        "[ 26.63315295  16.72814137  16.32333272  20.5608554 ] mag\n",
        "[  8.06749711e-08   7.39168505e-04   1.07316602e-03   2.16599694e-05] Jy\n"
       ]
      }
     ],
     "prompt_number": 19
    },
    {
     "cell_type": "code",
     "collapsed": false,
     "input": [
      "Obs2 = Observe(Galaxy2, FiltSet1, 1.5)\n",
      "\n",
      "print Obs2.AB # Note how the 1500A has no flux because the \n",
      "              # Lyman break has redshift outside the filter\n",
      "print '\\n'"
     ],
     "language": "python",
     "metadata": {},
     "outputs": [
      {
       "output_type": "stream",
       "stream": "stdout",
       "text": [
        "[         inf  21.61780511  22.58267031  22.03059338] mag\n",
        "\n",
        "\n"
       ]
      }
     ],
     "prompt_number": 20
    },
    {
     "cell_type": "markdown",
     "metadata": {},
     "source": [
      "By default, the code will not 'observe' a galaxy which is older than the age of the universe at the desired redshift. However, this can be overridden with the keyword _force_age = False_."
     ]
    },
    {
     "cell_type": "code",
     "collapsed": false,
     "input": [
      "Galaxy5 = CSP(10.,0.5,0.,4) \n",
      "Galaxy5 *= 5e10\n",
      "Obs3 = Observe(Galaxy5, FiltSet1, 2.) \n",
      "Obs3 = Observe(Galaxy5, FiltSet1, 2., force_age=False)\n",
      "\n",
      "print Obs3.AB[2]\n",
      "\n",
      "#Obs4 = Observe(Galaxy5, FiltSet1, [0.5,1.,1.5,2.])\n",
      "#print Obs4.mag"
     ],
     "language": "python",
     "metadata": {},
     "outputs": [
      {
       "output_type": "stream",
       "stream": "stdout",
       "text": [
        "SSP age older than universe...stopping.\n",
        "23.452067506 mag"
       ]
      },
      {
       "output_type": "stream",
       "stream": "stdout",
       "text": [
        "\n",
        "\u001b[0;31mERROR\u001b[0m: TypeError: unsupported operand type(s) for +: 'int' and 'list' [mkCSPs]\n"
       ]
      },
      {
       "ename": "TypeError",
       "evalue": "unsupported operand type(s) for +: 'int' and 'list'",
       "output_type": "pyerr",
       "traceback": [
        "\u001b[0;31m---------------------------------------------------------------------------\u001b[0m\n\u001b[0;31mTypeError\u001b[0m                                 Traceback (most recent call last)",
        "\u001b[0;32m<ipython-input-21-5de4f6a6b5c0>\u001b[0m in \u001b[0;36m<module>\u001b[0;34m()\u001b[0m\n\u001b[1;32m      6\u001b[0m \u001b[0;32mprint\u001b[0m \u001b[0mObs3\u001b[0m\u001b[0;34m.\u001b[0m\u001b[0mAB\u001b[0m\u001b[0;34m[\u001b[0m\u001b[0;36m2\u001b[0m\u001b[0;34m]\u001b[0m\u001b[0;34m\u001b[0m\u001b[0m\n\u001b[1;32m      7\u001b[0m \u001b[0;34m\u001b[0m\u001b[0m\n\u001b[0;32m----> 8\u001b[0;31m \u001b[0mObs4\u001b[0m \u001b[0;34m=\u001b[0m \u001b[0mObserve\u001b[0m\u001b[0;34m(\u001b[0m\u001b[0mGalaxy5\u001b[0m\u001b[0;34m,\u001b[0m \u001b[0mFiltSet1\u001b[0m\u001b[0;34m,\u001b[0m \u001b[0;34m[\u001b[0m\u001b[0;36m0.5\u001b[0m\u001b[0;34m,\u001b[0m\u001b[0;36m1.\u001b[0m\u001b[0;34m,\u001b[0m\u001b[0;36m1.5\u001b[0m\u001b[0;34m,\u001b[0m\u001b[0;36m2.\u001b[0m\u001b[0;34m]\u001b[0m\u001b[0;34m)\u001b[0m\u001b[0;34m\u001b[0m\u001b[0m\n\u001b[0m\u001b[1;32m      9\u001b[0m \u001b[0;32mprint\u001b[0m \u001b[0mObs4\u001b[0m\u001b[0;34m.\u001b[0m\u001b[0mmag\u001b[0m\u001b[0;34m\u001b[0m\u001b[0m\n",
        "\u001b[0;32m/Users/ken/Documents/PhD/code/smpy/smpy-obs/mkCSPs.py\u001b[0m in \u001b[0;36m__init__\u001b[0;34m(self, SED, Filters, redshift, force_age)\u001b[0m\n\u001b[1;32m    967\u001b[0m         \u001b[0mly_a_w\u001b[0m \u001b[0;34m=\u001b[0m \u001b[0mnumpy\u001b[0m\u001b[0;34m.\u001b[0m\u001b[0marray\u001b[0m\u001b[0;34m(\u001b[0m\u001b[0;34m[\u001b[0m\u001b[0;34m(\u001b[0m\u001b[0mself\u001b[0m\u001b[0;34m.\u001b[0m\u001b[0mwave\u001b[0m \u001b[0;34m>\u001b[0m \u001b[0;36m1026.\u001b[0m\u001b[0;34m)\u001b[0m \u001b[0;34m&\u001b[0m \u001b[0;34m(\u001b[0m\u001b[0mself\u001b[0m\u001b[0;34m.\u001b[0m\u001b[0mwave\u001b[0m \u001b[0;34m<=\u001b[0m \u001b[0;36m1216.\u001b[0m\u001b[0;34m)\u001b[0m\u001b[0;34m]\u001b[0m\u001b[0;34m[\u001b[0m\u001b[0;36m0\u001b[0m\u001b[0;34m]\u001b[0m\u001b[0;34m)\u001b[0m\u001b[0;34m\u001b[0m\u001b[0m\n\u001b[1;32m    968\u001b[0m \u001b[0;34m\u001b[0m\u001b[0m\n\u001b[0;32m--> 969\u001b[0;31m         dec_a = (1/(120*(1+self.z)))*quad(self.dec_a_func,\n\u001b[0m\u001b[1;32m    970\u001b[0m                 1050*(1+self.z),1170*(1+self.z))[0]\n\u001b[1;32m    971\u001b[0m         dec_b= (1/(95*(1+self.z)))*quad(self.dec_b_func,\n",
        "\u001b[0;31mTypeError\u001b[0m: unsupported operand type(s) for +: 'int' and 'list'"
       ]
      }
     ],
     "prompt_number": 21
    },
    {
     "cell_type": "code",
     "collapsed": false,
     "input": [],
     "language": "python",
     "metadata": {},
     "outputs": []
    }
   ],
   "metadata": {}
  }
 ]
}