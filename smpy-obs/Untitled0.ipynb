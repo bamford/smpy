{
 "metadata": {
  "name": "",
  "signature": "sha256:b57b3ecb8f0d698d1518f49ee7cbbb639e66941e4aa5071563bdfc8744415fea"
 },
 "nbformat": 3,
 "nbformat_minor": 0,
 "worksheets": [
  {
   "cells": [
    {
     "cell_type": "code",
     "collapsed": false,
     "input": [
      "%pylab inline\n",
      "from pylab import *\n",
      "from mkCSPs import *\n"
     ],
     "language": "python",
     "metadata": {},
     "outputs": [
      {
       "output_type": "stream",
       "stream": "stdout",
       "text": [
        "Populating the interactive namespace from numpy and matplotlib\n"
       ]
      }
     ],
     "prompt_number": 2
    },
    {
     "cell_type": "code",
     "collapsed": false,
     "input": [
      "Gal = CSP('../ssp/bc03/chab/lr/')\n",
      "Gal2 = CSP('../ssp/bc03/chab/lr/',0.35,1.4,0.4,2)\n",
      "print Gal2.wave\n",
      "print Gal2.SED"
     ],
     "language": "python",
     "metadata": {},
     "outputs": [
      {
       "output_type": "stream",
       "stream": "stdout",
       "text": [
        "[  9.10000000e+01   9.40000000e+01   9.60000000e+01 ...,   1.20000000e+06\n",
        "   1.40000000e+06   1.60000000e+06]\n",
        "[  0.00000000e+00   0.00000000e+00   0.00000000e+00 ...,   1.10653873e-11\n",
        "   5.94995259e-12   3.47526544e-12]\n"
       ]
      }
     ],
     "prompt_number": 3
    },
    {
     "cell_type": "code",
     "collapsed": false,
     "input": [
      "Gal.build(0.35,1.4,0.4,2,sfh_law='pow',fesc=0.2)\n",
      "Gal3 = CSP()\n",
      "Gal3.build(0.35,1.4,0.4,2,sfh_law='pow',fesc=0.2,neb_cont=False,neb_met=False)"
     ],
     "language": "python",
     "metadata": {},
     "outputs": [],
     "prompt_number": 4
    },
    {
     "cell_type": "code",
     "collapsed": false,
     "input": [
      "Gal1 = Gal * 1e9\n",
      "Gal2 = Gal * 1e9\n",
      "Gal3 *= 1e9"
     ],
     "language": "python",
     "metadata": {},
     "outputs": [],
     "prompt_number": 5
    },
    {
     "cell_type": "code",
     "collapsed": false,
     "input": [
      "CIII = 8\n",
      "Gal2.addEmissionLine(1908,CIII)\n",
      "Gal2.addEmissionLine(1549,CIII*0.6)"
     ],
     "language": "python",
     "metadata": {},
     "outputs": [
      {
       "output_type": "stream",
       "stream": "stdout",
       "text": [
        "224\n",
        "10.0\n",
        "10667876.0619\n",
        "85343008.4948 8534300.84948\n",
        "187\n",
        "10.0\n",
        "13857135.0592\n",
        "66514248.2841 6651424.82841\n"
       ]
      }
     ],
     "prompt_number": 6
    },
    {
     "cell_type": "code",
     "collapsed": false,
     "input": [
      "Filts = FilterSet('../smpy-fit/GOODS-S_18_FilterCurves/Filter*.txt')"
     ],
     "language": "python",
     "metadata": {},
     "outputs": [],
     "prompt_number": 7
    },
    {
     "cell_type": "code",
     "collapsed": false,
     "input": [
      "z = 5.\n",
      "Obs1 = Observe(Gal1,Filts,z)\n",
      "Obs2 = Observe(Gal2,Filts,z)\n",
      "Obs3 = Observe(Gal3,Filts,z)\n",
      "\n",
      "\n",
      "Beta1 = 4.43*(Obs1.AB[9].value-Obs1.AB[11].value)-2\n",
      "Beta2 = 4.43*(Obs2.AB[9].value-Obs2.AB[11].value)-2\n",
      "Beta3 = 4.43*(Obs3.AB[9].value-Obs3.AB[11].value)-2\n",
      "\n",
      "print Beta1, Beta2, Beta3"
     ],
     "language": "python",
     "metadata": {},
     "outputs": [
      {
       "output_type": "stream",
       "stream": "stdout",
       "text": [
        "-1.92651790345 -2.00641737321 -2.22124891294\n"
       ]
      }
     ],
     "prompt_number": 8
    },
    {
     "cell_type": "code",
     "collapsed": false,
     "input": [
      "loglog(Gal1.wave*(1+z),Gal1.SED,lw=2)\n",
      "loglog(Gal2.wave*(1+z),Gal2.SED,'--',lw=2)\n",
      "loglog(Gal3.wave*(1+z),Gal3.SED,'--',lw=2)\n",
      "\n",
      "plot([1.25e4,1.25e4],[1e4,1e8])\n",
      "plot([1.6e4,1.6e4],[1e4,1e8])\n",
      "plot(Filts.filters[9].wave,Filts.filters[9].response*1e7)\n",
      "plot(Filts.filters[11].wave,Filts.filters[11].response*1e7)\n",
      "\n",
      "xlim([9000,5e4])\n",
      "ylim([1e6,1e8])"
     ],
     "language": "python",
     "metadata": {},
     "outputs": [
      {
       "metadata": {},
       "output_type": "pyout",
       "prompt_number": 9,
       "text": [
        "(1000000.0, 100000000.0)"
       ]
      },
      {
       "metadata": {},
       "output_type": "display_data",
       "png": "[encoded data removed]",
       "text": [
        "<matplotlib.figure.Figure at 0x10a7a3cd0>"
       ]
      }
     ],
     "prompt_number": 9
    },
    {
     "cell_type": "code",
     "collapsed": false,
     "input": [],
     "language": "python",
     "metadata": {},
     "outputs": [],
     "prompt_number": 9
    },
    {
     "cell_type": "code",
     "collapsed": false,
     "input": [],
     "language": "python",
     "metadata": {},
     "outputs": []
    }
   ],
   "metadata": {}
  }
 ]
}