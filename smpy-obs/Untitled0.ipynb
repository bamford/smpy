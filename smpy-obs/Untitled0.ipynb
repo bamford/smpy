{
 "metadata": {
  "name": "",
  "signature": "sha256:a20724b8f6979cfd7a2c473a7914537c30ecd19060e555bf833f6780aaf02dde"
 },
 "nbformat": 3,
 "nbformat_minor": 0,
 "worksheets": [
  {
   "cells": [
    {
     "cell_type": "code",
     "collapsed": false,
     "input": [
      "%pylab inline\n",
      "\n",
      "from pylab import *\n",
      "import mkCSPs as S\n",
      "\n",
      "ages = logspace(-2,0.3,30)\n",
      "\n",
      "tgs = []\n",
      "strs = []\n",
      "\n",
      "csp = S.CSP(0.1,1.4,0,2,sfh_law='pow')\n",
      "ages = csp.ta[10::2]\n",
      "#print ages\n",
      "for age in ages:\n",
      "    print age,\n",
      "    csp.build(age/1.0e9,1.,0,2,sfh_law='pow')\n",
      "    tgs.append(csp.tg)\n",
      "    strs.append(csp.STR)\n",
      "    print csp.tg,csp.STR\n",
      "    \n"
     ],
     "language": "python",
     "metadata": {},
     "outputs": [
      {
       "output_type": "stream",
       "stream": "stdout",
       "text": [
        "Populating the interactive namespace from numpy and matplotlib\n",
        "354815.0"
       ]
      },
      {
       "output_type": "stream",
       "stream": "stdout",
       "text": [
        " 354815.0 1.0\n",
        "446686.0 "
       ]
      },
      {
       "output_type": "stream",
       "stream": "stdout",
       "text": [
        "446686.0 1.0\n",
        "562344.0 "
       ]
      },
      {
       "output_type": "stream",
       "stream": "stdout",
       "text": [
        "562344.0 1.0\n",
        "707950.0 "
       ]
      },
      {
       "output_type": "stream",
       "stream": "stdout",
       "text": [
        "707950.0 1.0\n",
        "891257.0 "
       ]
      },
      {
       "output_type": "stream",
       "stream": "stdout",
       "text": [
        "891257.0 1.0\n",
        "1047130.0 "
       ]
      },
      {
       "output_type": "stream",
       "stream": "stdout",
       "text": [
        "1047130.0 1.0\n",
        "1148150.0 "
       ]
      },
      {
       "output_type": "stream",
       "stream": "stdout",
       "text": [
        "1148150.0 1.0\n",
        "1258930.0 "
       ]
      },
      {
       "output_type": "stream",
       "stream": "stdout",
       "text": [
        "1258930.0 1.0\n",
        "1380380.0 "
       ]
      },
      {
       "output_type": "stream",
       "stream": "stdout",
       "text": [
        "1380380.0 1.0\n",
        "1513560.0 "
       ]
      },
      {
       "output_type": "stream",
       "stream": "stdout",
       "text": [
        "1513560.0 1.0\n",
        "1659590.0 "
       ]
      },
      {
       "output_type": "stream",
       "stream": "stdout",
       "text": [
        "1659590.0 1.0\n",
        "1819700.0 "
       ]
      },
      {
       "output_type": "stream",
       "stream": "stdout",
       "text": [
        "1819700.0 1.0\n",
        "1995260.0 "
       ]
      },
      {
       "output_type": "stream",
       "stream": "stdout",
       "text": [
        "1995260.0 1.0\n",
        "2187760.0 "
       ]
      },
      {
       "output_type": "stream",
       "stream": "stdout",
       "text": [
        "2187760.0 1.0\n",
        "2398830.0 "
       ]
      },
      {
       "output_type": "stream",
       "stream": "stdout",
       "text": [
        "2398830.0 1.0\n",
        "2630270.0 "
       ]
      },
      {
       "output_type": "stream",
       "stream": "stdout",
       "text": [
        "2630270.0 1.0\n",
        "2884030.0 "
       ]
      },
      {
       "output_type": "stream",
       "stream": "stdout",
       "text": [
        "2884030.0 1.0\n",
        "3162270.0 "
       ]
      },
      {
       "output_type": "stream",
       "stream": "stdout",
       "text": [
        "3162270.0 1.0\n",
        "3467360.0 "
       ]
      },
      {
       "output_type": "stream",
       "stream": "stdout",
       "text": [
        "3467360.0 1.0\n",
        "3801890.0 "
       ]
      },
      {
       "output_type": "stream",
       "stream": "stdout",
       "text": [
        "3801890.0 0.999992878259\n",
        "4168690.0 "
       ]
      },
      {
       "output_type": "stream",
       "stream": "stdout",
       "text": [
        "4168690.0 0.99990349205\n",
        "4570880.0 "
       ]
      },
      {
       "output_type": "stream",
       "stream": "stdout",
       "text": [
        "4570880.0 0.999649188135\n",
        "5011860.0 "
       ]
      },
      {
       "output_type": "stream",
       "stream": "stdout",
       "text": [
        "5011860.0 0.999191400722\n",
        "5495400.0 "
       ]
      },
      {
       "output_type": "stream",
       "stream": "stdout",
       "text": [
        "5495400.0 0.998506083928\n",
        "6025590.0 "
       ]
      },
      {
       "output_type": "stream",
       "stream": "stdout",
       "text": [
        "6025590.0 0.997576853878\n",
        "6606920.0 "
       ]
      },
      {
       "output_type": "stream",
       "stream": "stdout",
       "text": [
        "6606920.0 0.996397671983\n",
        "7244350.0 "
       ]
      },
      {
       "output_type": "stream",
       "stream": "stdout",
       "text": [
        "7244350.0 0.994969029987\n",
        "7943270.0 "
       ]
      },
      {
       "output_type": "stream",
       "stream": "stdout",
       "text": [
        "7943270.0 0.993298196814\n",
        "8709620.0 "
       ]
      },
      {
       "output_type": "stream",
       "stream": "stdout",
       "text": [
        "8709620.0 0.991397388065\n",
        "9549900.0 "
       ]
      },
      {
       "output_type": "stream",
       "stream": "stdout",
       "text": [
        "9549900.0 0.989280483676\n",
        "10471300.0 "
       ]
      },
      {
       "output_type": "stream",
       "stream": "stdout",
       "text": [
        "10471300.0 0.986955811589\n",
        "11481500.0 "
       ]
      },
      {
       "output_type": "stream",
       "stream": "stdout",
       "text": [
        "11481500.0 0.984435873396\n",
        "12589200.0 "
       ]
      },
      {
       "output_type": "stream",
       "stream": "stdout",
       "text": [
        "12589200.0 0.981739604167\n",
        "13803800.0 "
       ]
      },
      {
       "output_type": "stream",
       "stream": "stdout",
       "text": [
        "13803800.0 0.978883667851\n",
        "15135600.0 "
       ]
      },
      {
       "output_type": "stream",
       "stream": "stdout",
       "text": [
        "15135600.0 0.975881242338\n",
        "16595800.0 "
       ]
      },
      {
       "output_type": "stream",
       "stream": "stdout",
       "text": [
        "16595800.0 0.972745902334\n",
        "18197000.0 "
       ]
      },
      {
       "output_type": "stream",
       "stream": "stdout",
       "text": [
        "18197000.0 0.969492834877\n",
        "19952600.0 "
       ]
      },
      {
       "output_type": "stream",
       "stream": "stdout",
       "text": [
        "19952600.0 0.966137139668\n",
        "21877600.0 "
       ]
      },
      {
       "output_type": "stream",
       "stream": "stdout",
       "text": [
        "21877600.0 0.962690827544\n",
        "23988300.0 "
       ]
      },
      {
       "output_type": "stream",
       "stream": "stdout",
       "text": [
        "23988300.0 0.959164468669\n",
        "26302600.0 "
       ]
      },
      {
       "output_type": "stream",
       "stream": "stdout",
       "text": [
        "26302600.0 0.95556851847\n",
        "29000000.0 "
       ]
      },
      {
       "output_type": "stream",
       "stream": "stdout",
       "text": [
        "29000000.0 0.951692574426\n",
        "31000000.0 "
       ]
      },
      {
       "output_type": "stream",
       "stream": "stdout",
       "text": [
        "31000000.0 0.949011007667\n",
        "33000000.0 "
       ]
      },
      {
       "output_type": "stream",
       "stream": "stdout",
       "text": [
        "33000000.0 0.94647295065\n",
        "35000000.0 "
       ]
      },
      {
       "output_type": "stream",
       "stream": "stdout",
       "text": [
        "35000000.0 0.944067657871\n",
        "37000000.0 "
       ]
      },
      {
       "output_type": "stream",
       "stream": "stdout",
       "text": [
        "37000000.0 0.941778641575\n",
        "39000000.0 "
       ]
      },
      {
       "output_type": "stream",
       "stream": "stdout",
       "text": [
        "39000000.0 0.93959988567\n",
        "42500000.0 "
       ]
      },
      {
       "output_type": "stream",
       "stream": "stdout",
       "text": [
        "42500000.0 0.936016229164\n",
        "47500000.0 "
       ]
      },
      {
       "output_type": "stream",
       "stream": "stdout",
       "text": [
        "47500000.0 0.931342370398\n",
        "52500000.0 "
       ]
      },
      {
       "output_type": "stream",
       "stream": "stdout",
       "text": [
        "52500000.0 0.927103021641\n",
        "57088000.0 "
       ]
      },
      {
       "output_type": "stream",
       "stream": "stdout",
       "text": [
        "57088000.0 0.923533180514\n",
        "71869600.0 "
       ]
      },
      {
       "output_type": "stream",
       "stream": "stdout",
       "text": [
        "71869600.0 0.913629841565\n",
        "90478496.0 "
       ]
      },
      {
       "output_type": "stream",
       "stream": "stdout",
       "text": [
        "90478496.0 0.903620324227\n",
        "113906000.0 "
       ]
      },
      {
       "output_type": "stream",
       "stream": "stdout",
       "text": [
        "113906000.0 0.893522046168\n",
        "143399008.0 "
       ]
      },
      {
       "output_type": "stream",
       "stream": "stdout",
       "text": [
        "143399008.0 0.883390844183\n",
        "180528992.0 "
       ]
      },
      {
       "output_type": "stream",
       "stream": "stdout",
       "text": [
        "180528992.0 0.873308904074\n",
        "227272000.0 "
       ]
      },
      {
       "output_type": "stream",
       "stream": "stdout",
       "text": [
        "227272000.0 0.863343987926\n",
        "286119008.0 "
       ]
      },
      {
       "output_type": "stream",
       "stream": "stdout",
       "text": [
        "286119008.0 0.853551186146\n",
        "360203008.0 "
       ]
      },
      {
       "output_type": "stream",
       "stream": "stdout",
       "text": [
        "360203008.0 0.843943965875\n",
        "453468992.0 "
       ]
      },
      {
       "output_type": "stream",
       "stream": "stdout",
       "text": [
        "453468992.0 0.834514080537\n",
        "570883968.0 "
       ]
      },
      {
       "output_type": "stream",
       "stream": "stdout",
       "text": [
        "570883968.0 0.825279543664\n",
        "718700992.0 "
       ]
      },
      {
       "output_type": "stream",
       "stream": "stdout",
       "text": [
        "718700992.0 0.81624747424\n",
        "904792000.0 "
       ]
      },
      {
       "output_type": "stream",
       "stream": "stdout",
       "text": [
        "904792000.0 0.807397667092\n",
        "1139069952.0 "
       ]
      },
      {
       "output_type": "stream",
       "stream": "stdout",
       "text": [
        "1139069952.0 0.79869966797\n",
        "1434000000.0 "
       ]
      },
      {
       "output_type": "stream",
       "stream": "stdout",
       "text": [
        "1434000000.0 0.790080279965\n",
        "1680000000.0 "
       ]
      },
      {
       "output_type": "stream",
       "stream": "stdout",
       "text": [
        "1680000000.0 0.784036220524\n",
        "1800000000.0 "
       ]
      },
      {
       "output_type": "stream",
       "stream": "stdout",
       "text": [
        "1800000000.0 0.781376360595\n",
        "2000000000.0 "
       ]
      },
      {
       "output_type": "stream",
       "stream": "stdout",
       "text": [
        "2000000000.0 0.777291303596\n",
        "2200000000.0 "
       ]
      },
      {
       "output_type": "stream",
       "stream": "stdout",
       "text": [
        "2200000000.0 0.773587034007\n",
        "2400000000.0 "
       ]
      },
      {
       "output_type": "stream",
       "stream": "stdout",
       "text": [
        "2400000000.0 0.770218840353\n",
        "2600000000.0 "
       ]
      },
      {
       "output_type": "stream",
       "stream": "stdout",
       "text": [
        "2600000000.0 0.767134428473\n",
        "3000000000.0 "
       ]
      },
      {
       "output_type": "stream",
       "stream": "stdout",
       "text": [
        "3000000000.0 0.761667182206\n",
        "3500000000.0 "
       ]
      },
      {
       "output_type": "stream",
       "stream": "stdout",
       "text": [
        "3500000000.0 0.755885868039\n",
        "4000000000.0 "
       ]
      },
      {
       "output_type": "stream",
       "stream": "stdout",
       "text": [
        "4000000000.0 0.750977453028\n",
        "4499999744.0 "
       ]
      },
      {
       "output_type": "stream",
       "stream": "stdout",
       "text": [
        "4499999744.0 0.746743022211\n",
        "5000000000.0 "
       ]
      },
      {
       "output_type": "stream",
       "stream": "stdout",
       "text": [
        "5000000000.0 0.743044722955\n",
        "5500000256.0 "
       ]
      },
      {
       "output_type": "stream",
       "stream": "stdout",
       "text": [
        "5500000256.0 0.739777183153\n",
        "6000000000.0 "
       ]
      },
      {
       "output_type": "stream",
       "stream": "stdout",
       "text": [
        "6000000000.0 0.736851541675\n",
        "6499999744.0 "
       ]
      },
      {
       "output_type": "stream",
       "stream": "stdout",
       "text": [
        "6499999744.0 0.734210147546\n",
        "7000000000.0 "
       ]
      },
      {
       "output_type": "stream",
       "stream": "stdout",
       "text": [
        "7000000000.0 0.73181190778\n",
        "7500000256.0 "
       ]
      },
      {
       "output_type": "stream",
       "stream": "stdout",
       "text": [
        "7500000256.0 0.729622896645\n",
        "8000000000.0 "
       ]
      },
      {
       "output_type": "stream",
       "stream": "stdout",
       "text": [
        "8000000000.0 0.727610343954\n",
        "8499999744.0 "
       ]
      },
      {
       "output_type": "stream",
       "stream": "stdout",
       "text": [
        "8499999744.0 0.725741224471\n",
        "8999999488.0 "
       ]
      },
      {
       "output_type": "stream",
       "stream": "stdout",
       "text": [
        "8999999488.0 0.724001310401\n",
        "9500000256.0 "
       ]
      },
      {
       "output_type": "stream",
       "stream": "stdout",
       "text": [
        "9500000256.0 0.722377973459\n",
        "10000000000.0 "
       ]
      },
      {
       "output_type": "stream",
       "stream": "stdout",
       "text": [
        "10000000000.0 0.720860213161\n",
        "10499999744.0 "
       ]
      },
      {
       "output_type": "stream",
       "stream": "stdout",
       "text": [
        "10499999744.0 0.719434887135\n",
        "11000000512.0 "
       ]
      },
      {
       "output_type": "stream",
       "stream": "stdout",
       "text": [
        "11000000512.0 0.718086248522\n",
        "11500000256.0 "
       ]
      },
      {
       "output_type": "stream",
       "stream": "stdout",
       "text": [
        "11500000256.0 0.716809190984\n",
        "12000000000.0 "
       ]
      },
      {
       "output_type": "stream",
       "stream": "stdout",
       "text": [
        "12000000000.0 0.715598918135\n",
        "12499999744.0 "
       ]
      },
      {
       "output_type": "stream",
       "stream": "stdout",
       "text": [
        "12499999744.0 0.714451131872\n",
        "12999999488.0 "
       ]
      },
      {
       "output_type": "stream",
       "stream": "stdout",
       "text": [
        "12999999488.0 0.71335945204\n",
        "13500000256.0 "
       ]
      },
      {
       "output_type": "stream",
       "stream": "stdout",
       "text": [
        "13500000256.0 0.712314899267\n",
        "14000000000.0 "
       ]
      },
      {
       "output_type": "stream",
       "stream": "stdout",
       "text": [
        "14000000000.0 0.711315070726\n",
        "14499999744.0 "
       ]
      },
      {
       "output_type": "stream",
       "stream": "stdout",
       "text": [
        "14499999744.0 0.71035772076\n",
        "15000000512.0 "
       ]
      },
      {
       "output_type": "stream",
       "stream": "stdout",
       "text": [
        "15000000512.0 0.709441028101\n",
        "15500000256.0 "
       ]
      },
      {
       "output_type": "stream",
       "stream": "stdout",
       "text": [
        "15500000256.0 0.708563294956\n",
        "16000000000.0 "
       ]
      },
      {
       "output_type": "stream",
       "stream": "stdout",
       "text": [
        "16000000000.0 0.707721683115\n",
        "16499999744.0 "
       ]
      },
      {
       "output_type": "stream",
       "stream": "stdout",
       "text": [
        "16499999744.0 0.70691093191\n",
        "16999999488.0 "
       ]
      },
      {
       "output_type": "stream",
       "stream": "stdout",
       "text": [
        "16999999488.0 0.706128401552\n",
        "17500000256.0 "
       ]
      },
      {
       "output_type": "stream",
       "stream": "stdout",
       "text": [
        "17500000256.0 0.705372849026\n",
        "17999998976.0 "
       ]
      },
      {
       "output_type": "stream",
       "stream": "stdout",
       "text": [
        "17999998976.0 0.704643579973\n",
        "18499999744.0 "
       ]
      },
      {
       "output_type": "stream",
       "stream": "stdout",
       "text": [
        "18499999744.0 0.703939837938\n",
        "19000000512.0 "
       ]
      },
      {
       "output_type": "stream",
       "stream": "stdout",
       "text": [
        "19000000512.0 0.703260810558\n",
        "19499999232.0 "
       ]
      },
      {
       "output_type": "stream",
       "stream": "stdout",
       "text": [
        "19499999232.0 0.702605154737\n",
        "20000000000.0 "
       ]
      },
      {
       "output_type": "stream",
       "stream": "stdout",
       "text": [
        "20000000000.0 0.701970571807\n"
       ]
      }
     ],
     "prompt_number": 10
    },
    {
     "cell_type": "code",
     "collapsed": false,
     "input": [
      "semilogx(tgs,strs)\n",
      "xlim([5e6,2e10])"
     ],
     "language": "python",
     "metadata": {},
     "outputs": [
      {
       "metadata": {},
       "output_type": "pyout",
       "prompt_number": 11,
       "text": [
        "(5000000.0, 20000000000.0)"
       ]
      },
      {
       "metadata": {},
       "output_type": "display_data",
       "png": "[encoded data removed]",
       "text": [
        "<matplotlib.figure.Figure at 0x108155d50>"
       ]
      }
     ],
     "prompt_number": 11
    },
    {
     "cell_type": "code",
     "collapsed": false,
     "input": [
      "def sfr(t,pow):\n",
      "    t = array(t)\n",
      "    sfr = (t/1e9)**pow\n",
      "    integral = trapz(sfr,t)\n",
      "    return sfr/integral\n",
      "\n",
      "sf = sfr(array(tgs),1.4)\n",
      "loglog(tgs,sf)"
     ],
     "language": "python",
     "metadata": {},
     "outputs": [
      {
       "metadata": {},
       "output_type": "pyout",
       "prompt_number": 12,
       "text": [
        "[<matplotlib.lines.Line2D at 0x108148d90>]"
       ]
      },
      {
       "metadata": {},
       "output_type": "display_data",
       "png": "[encoded data removed]",
       "text": [
        "<matplotlib.figure.Figure at 0x104c0c690>"
       ]
      }
     ],
     "prompt_number": 12
    },
    {
     "cell_type": "code",
     "collapsed": false,
     "input": [
      "from scipy.interpolate import interp1d\n",
      "\n",
      "xx = interp1d(log10(tgs),strs)"
     ],
     "language": "python",
     "metadata": {},
     "outputs": [],
     "prompt_number": 13
    },
    {
     "cell_type": "code",
     "collapsed": false,
     "input": [
      "1-xx(10)"
     ],
     "language": "python",
     "metadata": {},
     "outputs": [
      {
       "metadata": {},
       "output_type": "pyout",
       "prompt_number": 14,
       "text": [
        "0.27913978683940732"
       ]
      }
     ],
     "prompt_number": 14
    },
    {
     "cell_type": "code",
     "collapsed": false,
     "input": [
      "zz = S.cosmo.age([12,10,8,6,4,3])\n",
      "\n",
      "frac = xx(log10(zz.value*1e9))\n",
      "print 1-frac"
     ],
     "language": "python",
     "metadata": {},
     "outputs": [
      {
       "output_type": "stream",
       "stream": "stdout",
       "text": [
        "[ 0.14982328  0.16021462  0.17239838  0.18717376  0.20628289  0.21903669]\n"
       ]
      }
     ],
     "prompt_number": 7
    },
    {
     "cell_type": "code",
     "collapsed": false,
     "input": [
      "S.cosmo.age([15])"
     ],
     "language": "python",
     "metadata": {},
     "outputs": [
      {
       "metadata": {},
       "output_type": "pyout",
       "prompt_number": 15,
       "text": [
        "<Quantity [ 0.26397426] Gyr>"
       ]
      }
     ],
     "prompt_number": 15
    },
    {
     "cell_type": "code",
     "collapsed": false,
     "input": [],
     "language": "python",
     "metadata": {},
     "outputs": []
    }
   ],
   "metadata": {}
  }
 ]
}