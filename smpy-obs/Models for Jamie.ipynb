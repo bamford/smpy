{
 "metadata": {
  "name": "",
  "signature": "sha256:00a0ea64569bf25f306d8f3cdd1c619f97da8589ed419edea270cdd0f5dad0e6"
 },
 "nbformat": 3,
 "nbformat_minor": 0,
 "worksheets": [
  {
   "cells": [
    {
     "cell_type": "code",
     "collapsed": false,
     "input": [
      "%pylab inline\n",
      "\n",
      "import mkSSPs as S\n",
      "import numpy\n",
      "import matplotlib.pyplot as plt\n",
      "reload(S)\n",
      "constant = S.SSP(0.1,1000,0,2,1.)\n",
      "declining = S.SSP(0.1,0.1,0,2,1.)\n",
      "\n",
      "filt_dir = 'filters/filt_0*.txt'\n",
      "print 'loading EAZY'\n",
      "#EAZYfilters = S.LoadEAZYFilters('FILTER.RES.V8')\n",
      "#print 'addding EAZY  to filter set'\n",
      "Filts = S.FilterSet(filt_dir)\n",
      "Filts.addEAZYFilter(EAZYfilters,[125])\n",
      "\n",
      "UV_constant = []\n",
      "UV_declining = []\n",
      "VJ_constant = []\n",
      "VJ_declining = []\n",
      "\n",
      "ages = numpy.logspace(-1.,1.,30)\n",
      "aa = []\n",
      "\n",
      "for age in ages:\n",
      "    print age,\n",
      "    constant.build(age,1000,0,4,1.)\n",
      "    declining.build(age,0.1,0,4,1.)\n",
      "    print constant.tg/1.0e9\n",
      "    aa.append(constant.tg/1.0e9)\n",
      "    c_obs = S.Observe(constant,Filts,0.)\n",
      "    d_obs = S.Observe(declining,Filts,0.)\n",
      "    constant.ta\n",
      "    UV_constant.append((c_obs.AB[0]-c_obs.AB[1]).value)\n",
      "    UV_declining.append((d_obs.AB[0]-d_obs.AB[1]).value)\n",
      "\n",
      "    VJ_constant.append((c_obs.AB[1]-c_obs.AB[2]).value)\n",
      "    VJ_declining.append((d_obs.AB[1]-d_obs.AB[2]).value)\n",
      "    \n",
      "plt.plot(VJ_constant,UV_constant,color='blue',lw=2,label=r'$\\tau = 1000$ Gyr')\n",
      "plt.plot(VJ_declining,UV_declining,color='red',lw=2,label=r'$\\tau = 0.1$ Gyr')\n",
      "\n",
      "plt.ylim([0,2.5])\n",
      "plt.xlim([-0.5,2.5])\n",
      "plt.xlabel('V - J')\n",
      "plt.ylabel('U - V')\n",
      "plt.legend(loc='bottom right')\n",
      "plt.show()"
     ],
     "language": "python",
     "metadata": {},
     "outputs": [
      {
       "output_type": "stream",
       "stream": "stdout",
       "text": [
        "Populating the interactive namespace from numpy and matplotlib\n",
        "loading EAZY"
       ]
      },
      {
       "output_type": "stream",
       "stream": "stdout",
       "text": [
        "\n",
        "0.1 "
       ]
      },
      {
       "output_type": "stream",
       "stream": "stdout",
       "text": [
        "0.101518\n",
        "0.117210229753"
       ]
      },
      {
       "output_type": "stream",
       "stream": "stdout",
       "text": [
        " 0.113906\n",
        "0.137382379588"
       ]
      },
      {
       "output_type": "stream",
       "stream": "stdout",
       "text": [
        " 0.143399008\n",
        "0.161026202756"
       ]
      },
      {
       "output_type": "stream",
       "stream": "stdout",
       "text": [
        " 0.160896\n",
        "0.188739182214"
       ]
      },
      {
       "output_type": "stream",
       "stream": "stdout",
       "text": [
        " 0.180528992\n",
        "0.221221629107"
       ]
      },
      {
       "output_type": "stream",
       "stream": "stdout",
       "text": [
        " 0.227272\n",
        "0.25929437974"
       ]
      },
      {
       "output_type": "stream",
       "stream": "stdout",
       "text": [
        " 0.255004\n",
        "0.303919538231"
       ]
      },
      {
       "output_type": "stream",
       "stream": "stdout",
       "text": [
        " 0.321031008\n",
        "0.356224789026"
       ]
      },
      {
       "output_type": "stream",
       "stream": "stdout",
       "text": [
        " 0.360203008\n",
        "0.417531893656"
       ]
      },
      {
       "output_type": "stream",
       "stream": "stdout",
       "text": [
        " 0.404153984\n",
        "0.489390091848"
       ]
      },
      {
       "output_type": "stream",
       "stream": "stdout",
       "text": [
        " 0.508800992\n",
        "0.573615251045"
       ]
      },
      {
       "output_type": "stream",
       "stream": "stdout",
       "text": [
        " 0.570883968\n",
        "0.67233575365"
       ]
      },
      {
       "output_type": "stream",
       "stream": "stdout",
       "text": [
        " 0.640542976\n",
        "0.788046281567"
       ]
      },
      {
       "output_type": "stream",
       "stream": "stdout",
       "text": [
        " 0.806396032\n",
        "0.923670857187"
       ]
      },
      {
       "output_type": "stream",
       "stream": "stdout",
       "text": [
        " 0.904792\n",
        "1.08263673387"
       ]
      },
      {
       "output_type": "stream",
       "stream": "stdout",
       "text": [
        " 1.139069952\n",
        "1.26896100317"
       ]
      },
      {
       "output_type": "stream",
       "stream": "stdout",
       "text": [
        " 1.278050048\n",
        "1.48735210729"
       ]
      },
      {
       "output_type": "stream",
       "stream": "stdout",
       "text": [
        " 1.434\n",
        "1.7433288222"
       ]
      },
      {
       "output_type": "stream",
       "stream": "stdout",
       "text": [
        " 1.7\n",
        "2.04335971786"
       ]
      },
      {
       "output_type": "stream",
       "stream": "stdout",
       "text": [
        " 2.0\n",
        "2.39502661999"
       ]
      },
      {
       "output_type": "stream",
       "stream": "stdout",
       "text": [
        " 2.4\n",
        "2.80721620394"
       ]
      },
      {
       "output_type": "stream",
       "stream": "stdout",
       "text": [
        " 2.750000128\n",
        "3.29034456231"
       ]
      },
      {
       "output_type": "stream",
       "stream": "stdout",
       "text": [
        " 3.249999872\n",
        "3.85662042116"
       ]
      },
      {
       "output_type": "stream",
       "stream": "stdout",
       "text": [
        " 3.750000128\n",
        "4.52035365636"
       ]
      },
      {
       "output_type": "stream",
       "stream": "stdout",
       "text": [
        " 4.499999744\n",
        "5.29831690628"
       ]
      },
      {
       "output_type": "stream",
       "stream": "stdout",
       "text": [
        " 5.249999872\n",
        "6.21016941892"
       ]
      },
      {
       "output_type": "stream",
       "stream": "stdout",
       "text": [
        " 6.249999872\n",
        "7.27895384398"
       ]
      },
      {
       "output_type": "stream",
       "stream": "stdout",
       "text": [
        " 7.249999872\n",
        "8.53167852417"
       ]
      },
      {
       "output_type": "stream",
       "stream": "stdout",
       "text": [
        " 8.499999744\n",
        "10.0"
       ]
      },
      {
       "output_type": "stream",
       "stream": "stdout",
       "text": [
        " 10.0\n"
       ]
      },
      {
       "metadata": {},
       "output_type": "display_data",
       "png": "[encoded data removed]",
       "text": [
        "<matplotlib.figure.Figure at 0x104f8be50>"
       ]
      }
     ],
     "prompt_number": 18
    },
    {
     "cell_type": "code",
     "collapsed": false,
     "input": [
      "import atpy\n",
      "import os\n",
      "ages = numpy.logspace(-1.,1.,50)\n",
      "\n",
      "\n",
      "NewTable = atpy.Table(name='UVJ')\n",
      "NewTable.add_column('Age_gyr',aa)\n",
      "NewTable.add_column('UV_constant',UV_constant)\n",
      "NewTable.add_column('VJ_constant',VJ_constant)\n",
      "NewTable.add_column('UV_declining',UV_declining)\n",
      "NewTable.add_column('VJ_declining',VJ_declining)\n",
      "os.remove('UVJ_colours.txt')\n",
      "NewTable.write('UVJ_colours.txt',type='ascii')"
     ],
     "language": "python",
     "metadata": {},
     "outputs": [],
     "prompt_number": 19
    },
    {
     "cell_type": "code",
     "collapsed": false,
     "input": [],
     "language": "python",
     "metadata": {},
     "outputs": []
    }
   ],
   "metadata": {}
  }
 ]
}