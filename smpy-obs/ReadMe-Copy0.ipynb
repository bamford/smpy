{
 "metadata": {
  "name": "",
  "signature": "sha256:8e178c484fe33db0066e2d466736e09fcb9c1c9eb2098fdb6fceceec072a7564"
 },
 "nbformat": 3,
 "nbformat_minor": 0,
 "worksheets": []
}