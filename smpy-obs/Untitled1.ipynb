{
 "metadata": {
  "name": "",
  "signature": "sha256:a4af3a89d77243f432b00c808f3bbd6c31d333f257b98bab3ba14b5a701eb4ce"
 },
 "nbformat": 3,
 "nbformat_minor": 0,
 "worksheets": [
  {
   "cells": [
    {
     "cell_type": "code",
     "collapsed": false,
     "input": [
      "%matplotlib inline\n",
      "import matplotlib.pyplot as plt\n",
      "import numpy\n",
      "\n",
      "def CalcBeta(MUV,intcp,dBdM):\n",
      "    return intcp + (MUV - (-19.5))*dBdM\n",
      "\n",
      "def alpha_sfr(alpha_UV,C1,dBdM):\n",
      "    top = alpha_UV + (C1 * dBdM)\n",
      "    bottom = 1 - (C1 * dBdM)\n",
      "    return top/bottom\n",
      "\n",
      "def phi_sfr(phi_UV,C1,dBdM):\n",
      "    return phi_UV / (1- (C1*dBdM))\n",
      "\n",
      "def SFRstar(M_UV,dBdM,intcp,sigma):\n",
      "    B = CalcBeta(M_UV,intcp,dBdM)\n",
      "    Amean = 4.43 + 1.82*(sigma**2) + 1.99*B\n",
      "    return -0.4*(M_UV - Amean) - 7.25\n",
      "\n",
      "def SFRfunction(S,SFRc,phi,alpha):\n",
      "    phi_m = numpy.log(10)*(10**phi)*(10**((S-SFRc)*(1 + alpha)))*numpy.exp(-10**(S-SFRc))\n",
      "    return phi_m\n",
      "\n",
      "MUVs_old = numpy.array([-20.98,-20.60,-20.37,-20.14])\n",
      "alpha_UVs_old = numpy.array([-1.73, -1.79, -1.73, -2.01])\n",
      "phi_UVs_old = numpy.array([1.3, 1.4, 1.4, 0.86])*1e-3\n",
      "\n",
      "MUVs_new = numpy.array([-21.07,-21.11,-20.93,-20.64])\n",
      "alpha_UVs_new = numpy.array([-1.64, -1.73, -1.85, -2.0])\n",
      "phi_UVs_new = numpy.array([1.41, 0.79, 0.49, 0.43])*1e-3\n",
      "\n",
      "\n",
      "b12_beta_int = numpy.array([-2.0, -2.08, -2.20, -2.27])\n",
      "b13_beta_int = numpy.array([-1.87,-1.92, -2.01, -2.04])\n",
      "\n",
      "b12_dBdM = numpy.array([-0.11, -0.16, -0.15, -0.21])\n",
      "b13_dBdM = numpy.array([-0.11, -0.13, -0.19, -0.18])\n",
      "\n",
      "phi_SFR_old = numpy.log10(phi_sfr(phi_UVs_old,1.99,b12_dBdM))\n",
      "phi_SFR_new = numpy.log10(phi_sfr(phi_UVs_old,1.99,b13_dBdM))\n",
      "\n",
      "alpha_SFR_old = alpha_sfr(alpha_UVs_old,1.99,b12_dBdM)\n",
      "alpha_SFR_new = alpha_sfr(alpha_UVs_old,1.99,b13_dBdM)\n",
      "\n",
      "SFRstar_old = SFRstar(MUVs_old,b12_dBdM,b12_beta_int,0.34)\n",
      "SFRstar_new = SFRstar(MUVs_old,b13_dBdM,b13_beta_int,0.34)\n",
      "\n",
      "\n",
      "SFRrange = numpy.linspace(-0.5,3,300)"
     ],
     "language": "python",
     "metadata": {},
     "outputs": [],
     "prompt_number": 59
    },
    {
     "cell_type": "code",
     "collapsed": false,
     "input": [
      "print SFRstar_new - SFRstar_old\n",
      "\n",
      "print phi_SFR_new - phi_SFR_old\n",
      "\n",
      "print alpha_SFR_new - alpha_SFR_old\n"
     ],
     "language": "python",
     "metadata": {},
     "outputs": [
      {
       "output_type": "stream",
       "stream": "stdout",
       "text": [
        "[ 0.10348    0.101092   0.1789408  0.1677968]\n",
        "[ 0.          0.02012496 -0.02583878  0.01868188]\n",
        "[ 0.         -0.02842052  0.03247231 -0.03131024]\n"
       ]
      }
     ],
     "prompt_number": 60
    },
    {
     "cell_type": "code",
     "collapsed": false,
     "input": [
      "def old(z):\n",
      "    return SFRfunction(SFRrange,SFRstar_old[z],phi_SFR_old[z],alpha_SFR_old[z])\n",
      "\n",
      "def new(z):\n",
      "    return SFRfunction(SFRrange,SFRstar_new[z],phi_SFR_new[z],alpha_SFR_new[z])\n",
      "\n",
      "plt.semilogy(SFRrange,old(3),color='orange',lw=2)\n",
      "plt.semilogy(SFRrange,new(3),'--',color='orange')\n",
      "\n",
      "plt.ylim([1e-6,1e-1])\n",
      "\n",
      "print numpy.log10(numpy.trapz(10**SFRrange * new(0),SFRrange)) - numpy.log10(numpy.trapz(10**SFRrange * old(0),SFRrange))\n",
      "print numpy.log10(numpy.trapz(10**SFRrange * new(1),SFRrange)) - numpy.log10(numpy.trapz(10**SFRrange * old(1),SFRrange))\n",
      "print numpy.log10(numpy.trapz(10**SFRrange * new(2),SFRrange)) - numpy.log10(numpy.trapz(10**SFRrange * old(2),SFRrange))\n",
      "print numpy.log10(numpy.trapz(10**SFRrange * new(3),SFRrange)) - numpy.log10(numpy.trapz(10**SFRrange * old(3),SFRrange))"
     ],
     "language": "python",
     "metadata": {},
     "outputs": [
      {
       "output_type": "stream",
       "stream": "stdout",
       "text": [
        "0.111553668948\n",
        "0.150378671689\n",
        "0.153837281007\n",
        "0.238333522513\n"
       ]
      },
      {
       "metadata": {},
       "output_type": "display_data",
       "png": "[encoded data removed]",
       "text": [
        "<matplotlib.figure.Figure at 0x110de2650>"
       ]
      }
     ],
     "prompt_number": 69
    },
    {
     "cell_type": "code",
     "collapsed": false,
     "input": [
      "muvrange = numpy.linspace(-22,-16,30)\n",
      "old =  4.43 + (1.99*CalcBeta(muvrange,b12_beta_int[0],b12_dBdM[0]))\n",
      "old = numpy.maximum(old,0)\n",
      "new = 4.43 + (1.99*CalcBeta(muvrange,b13_beta_int[0],b12_dBdM[0]))\n",
      "new = numpy.maximum(new,0)\n"
     ],
     "language": "python",
     "metadata": {},
     "outputs": [],
     "prompt_number": 75
    },
    {
     "cell_type": "code",
     "collapsed": false,
     "input": [
      "plt.plot(old,new)"
     ],
     "language": "python",
     "metadata": {},
     "outputs": [
      {
       "metadata": {},
       "output_type": "pyout",
       "prompt_number": 76,
       "text": [
        "[<matplotlib.lines.Line2D at 0x110ddb690>]"
       ]
      },
      {
       "metadata": {},
       "output_type": "display_data",
       "png": "[encoded data removed]",
       "text": [
        "<matplotlib.figure.Figure at 0x110df04d0>"
       ]
      }
     ],
     "prompt_number": 76
    },
    {
     "cell_type": "code",
     "collapsed": false,
     "input": [],
     "language": "python",
     "metadata": {},
     "outputs": []
    }
   ],
   "metadata": {}
  }
 ]
}